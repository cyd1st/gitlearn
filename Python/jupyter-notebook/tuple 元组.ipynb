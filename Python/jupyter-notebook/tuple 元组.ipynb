{
 "cells": [
  {
   "cell_type": "markdown",
   "id": "a8d2fcad-f282-43f8-8a62-6e1fe1ad1343",
   "metadata": {},
   "source": [
    "# tuple 元组\n",
    "\n",
    "## 1. 创建元组\n",
    "\n",
    "1. 直接使用等号。\n",
    "一般使用小括号来表示 tuple，但是小括号不是必须的。"
   ]
  },
  {
   "cell_type": "code",
   "execution_count": 1,
   "id": "d775ff70-8779-4a42-9248-270db050f072",
   "metadata": {},
   "outputs": [
    {
     "data": {
      "text/plain": [
       "True"
      ]
     },
     "execution_count": 1,
     "metadata": {},
     "output_type": "execute_result"
    }
   ],
   "source": [
    "a = ('one', 'two')\n",
    "b = 'one', 'two' \n",
    "a == b"
   ]
  }
 ],
 "metadata": {
  "kernelspec": {
   "display_name": "Python 3 (ipykernel)",
   "language": "python",
   "name": "python3"
  },
  "language_info": {
   "codemirror_mode": {
    "name": "ipython",
    "version": 3
   },
   "file_extension": ".py",
   "mimetype": "text/x-python",
   "name": "python",
   "nbconvert_exporter": "python",
   "pygments_lexer": "ipython3",
   "version": "3.9.7"
  }
 },
 "nbformat": 4,
 "nbformat_minor": 5
}
