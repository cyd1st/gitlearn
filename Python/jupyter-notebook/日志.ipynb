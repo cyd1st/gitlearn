{
 "cells": [
  {
   "cell_type": "markdown",
   "id": "d71be43c-078e-49a8-b4d1-58bc5bbc4504",
   "metadata": {},
   "source": [
    "# 日志\n",
    "\n",
    "参考：\n",
    "[1] [日志 HOWTO](https://docs.python.org/zh-cn/3.9/howto/logging.html#logging-basic-tutorial)"
   ]
  },
  {
   "cell_type": "code",
   "execution_count": null,
   "id": "d889fc79-373e-4c26-9e35-88eaa5249c46",
   "metadata": {},
   "outputs": [],
   "source": []
  }
 ],
 "metadata": {
  "kernelspec": {
   "display_name": "Python 3 (ipykernel)",
   "language": "python",
   "name": "python3"
  },
  "language_info": {
   "codemirror_mode": {
    "name": "ipython",
    "version": 3
   },
   "file_extension": ".py",
   "mimetype": "text/x-python",
   "name": "python",
   "nbconvert_exporter": "python",
   "pygments_lexer": "ipython3",
   "version": "3.9.7"
  }
 },
 "nbformat": 4,
 "nbformat_minor": 5
}
