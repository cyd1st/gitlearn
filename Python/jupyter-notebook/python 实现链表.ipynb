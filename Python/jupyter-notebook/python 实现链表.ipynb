{
 "cells": [
  {
   "cell_type": "markdown",
   "id": "eaa7938d-30b1-4244-87ce-f7e473dfe480",
   "metadata": {},
   "source": [
    "# python 实现链表\n",
    "参考链接：\n",
    "[python 实现链表](https://blog.csdn.net/Yu_L2/article/details/120399755)\n",
    "\n",
    "## 节点的定义"
   ]
  },
  {
   "cell_type": "code",
   "execution_count": 20,
   "id": "864b69c8-84f0-47d8-9181-0ff2535e0c1e",
   "metadata": {
    "tags": []
   },
   "outputs": [
    {
     "name": "stdout",
     "output_type": "stream",
     "text": [
      "10086\n",
      "10010\n"
     ]
    }
   ],
   "source": [
    "# 单链表的节点\n",
    "class sLinkNode(object):\n",
    "    def __init__(self, elem):\n",
    "        self.__elem = elem\n",
    "        self.next = None\n",
    "    @property\n",
    "    def elem(self):\n",
    "        return self.__elem\n",
    "    @elem.setter\n",
    "    def elem(self, elem):\n",
    "        self.__elem = elem\n",
    "\n",
    "# 双链表的节点\n",
    "class dLinkNode(object):\n",
    "    def __init__(self, elem):\n",
    "        self.__elem = elem\n",
    "        self.pre = None\n",
    "        self.next = None\n",
    "    @property\n",
    "    def elem(self):\n",
    "        return self.__elem\n",
    "    @elem.setter\n",
    "    def elem(self, elem):\n",
    "        self.__elem = elem\n",
    "        \n",
    "sLinkHead = sLinkNode(100)\n",
    "sLinkHead.elem = 10086\n",
    "print(sLinkHead.elem)\n",
    "\n",
    "dLinkHead = dLinkNode(101)\n",
    "dLinkHead.elem = 10010\n",
    "print(dLinkHead.elem)"
   ]
  },
  {
   "cell_type": "markdown",
   "id": "88728524-3bde-4d26-a24a-22c0b7156e06",
   "metadata": {},
   "source": [
    "## 链表的定义\n",
    "### 单链表\n"
   ]
  },
  {
   "cell_type": "code",
   "execution_count": null,
   "id": "a716e6be-44f5-4ca7-aa3c-c230b545b39e",
   "metadata": {},
   "outputs": [],
   "source": [
    "class sLinkList(object):\n",
    "    def __init__(self, node=None):\n",
    "        self.__head = node\n",
    "    def is_empty(self):\n",
    "        return self.__head == None\n",
    "    def travel(self):\n",
    "        cur = self.__head\n",
    "        while cur != None:\n",
    "            print(cur.elem)\n",
    "            cur = cur.next\n",
    "    @property\n",
    "    def length(self):\n",
    "        c = 0\n",
    "        cur = self.__head\n",
    "        while cur != None:\n",
    "            c += 1\n",
    "            cur = cur.next\n",
    "        return c"
   ]
  }
 ],
 "metadata": {
  "kernelspec": {
   "display_name": "Python 3 (ipykernel)",
   "language": "python",
   "name": "python3"
  },
  "language_info": {
   "codemirror_mode": {
    "name": "ipython",
    "version": 3
   },
   "file_extension": ".py",
   "mimetype": "text/x-python",
   "name": "python",
   "nbconvert_exporter": "python",
   "pygments_lexer": "ipython3",
   "version": "3.9.7"
  }
 },
 "nbformat": 4,
 "nbformat_minor": 5
}
