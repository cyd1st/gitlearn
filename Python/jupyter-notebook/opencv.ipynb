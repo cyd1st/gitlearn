{
 "cells": [
  {
   "cell_type": "markdown",
   "id": "06e7fd08-531a-4fe8-ac6f-43375ee2a0fc",
   "metadata": {},
   "source": [
    "# opencv-python 基础入门"
   ]
  },
  {
   "cell_type": "markdown",
   "id": "ef69b12e-744e-4a70-a119-27df893c0cc5",
   "metadata": {},
   "source": [
    "安装：pip install opencv-python  \n",
    "导入：import cv2"
   ]
  },
  {
   "cell_type": "markdown",
   "id": "55bed426-38f3-4963-98ce-d5fd6635e39c",
   "metadata": {
    "jp-MarkdownHeadingCollapsed": true,
    "tags": []
   },
   "source": [
    "## 读取图片 cv2.imread()\n",
    "**原型：**  \n",
    " cv2.imread(filename, flags) -> Mat\n",
    " \n",
    " filename：图片文件的路径。  \n",
    " flags: 读取图片的形式，有三种。  \n",
    " 返回值：一个numpy像素矩阵，失败返回None。  \n",
    " \n",
    " > 返回的像素矩阵格式为 BGR（红绿蓝）\n",
    " \n",
    " 基本使用示例："
   ]
  },
  {
   "cell_type": "code",
   "execution_count": 2,
   "id": "e182c653-8e57-44a0-909e-6feabf168437",
   "metadata": {},
   "outputs": [
    {
     "name": "stdout",
     "output_type": "stream",
     "text": [
      "[[[118 118 182]\n",
      "  [118 118 182]\n",
      "  [118 118 182]\n",
      "  ...\n",
      "  [ 93  99 170]\n",
      "  [ 93  99 170]\n",
      "  [ 93  99 170]]\n",
      "\n",
      " [[118 118 182]\n",
      "  [118 118 182]\n",
      "  [118 118 182]\n",
      "  ...\n",
      "  [ 93  99 170]\n",
      "  [ 93  99 170]\n",
      "  [ 93  99 170]]\n",
      "\n",
      " [[118 118 182]\n",
      "  [118 118 182]\n",
      "  [118 118 182]\n",
      "  ...\n",
      "  [ 93  99 170]\n",
      "  [ 93  99 170]\n",
      "  [ 93  99 170]]\n",
      "\n",
      " ...\n",
      "\n",
      " [[104  89  80]\n",
      "  [ 99  84  75]\n",
      "  [ 90  77  69]\n",
      "  ...\n",
      "  [ 51  38 148]\n",
      "  [ 51  38 148]\n",
      "  [ 51  38 148]]\n",
      "\n",
      " [[104  89  80]\n",
      "  [100  85  76]\n",
      "  [ 90  77  69]\n",
      "  ...\n",
      "  [ 51  38 148]\n",
      "  [ 51  38 148]\n",
      "  [ 51  38 148]]\n",
      "\n",
      " [[104  89  80]\n",
      "  [100  85  76]\n",
      "  [ 90  77  69]\n",
      "  ...\n",
      "  [ 51  38 148]\n",
      "  [ 51  38 148]\n",
      "  [ 51  38 148]]]\n"
     ]
    }
   ],
   "source": [
    "import cv2\n",
    "import numpy as np\n",
    "\n",
    "img = cv2.imread('asset/ico.png')\n",
    "print(img) # 打印像素矩阵"
   ]
  },
  {
   "cell_type": "markdown",
   "id": "f47a7399-6a7e-481f-a8c6-14aba9ebca4d",
   "metadata": {
    "tags": []
   },
   "source": [
    "### flags 参数\n",
    "- cv2.IMREAD_COLOR    \n",
    "    读取彩色图片，默认值。等价于 1。\n",
    "- cv2.IMREAD_GRAYSCALE  \n",
    "    读取灰度图片，也就是黑白图片。等价于2。\n",
    "- cv2.IMREAD_UNCHANGED  \n",
    "    包括 alpha（透明度）。等价于 -1。\n",
    "\n",
    "示例："
   ]
  },
  {
   "cell_type": "code",
   "execution_count": 3,
   "id": "e9dd16b6-9d37-45a4-8843-da39ba510235",
   "metadata": {},
   "outputs": [
    {
     "name": "stdout",
     "output_type": "stream",
     "text": [
      "[[141 141 141 ... 125 125 125]\n",
      " [141 141 141 ... 125 125 125]\n",
      " [141 141 141 ... 125 125 125]\n",
      " ...\n",
      " [ 89  84  76 ...  90  90  90]\n",
      " [ 89  85  76 ...  90  90  90]\n",
      " [ 89  85  76 ...  90  90  90]]\n"
     ]
    }
   ],
   "source": [
    "img_color = cv2.imread('asset/ico.png', 1)\n",
    "assert np.array_equal(img, img_color)\n",
    "\n",
    "img_gray = cv2.imread('asset/ico.png', cv2.IMREAD_GRAYSCALE)\n",
    "print(img_gray) # 打印出来的矩阵格式与 img_color 不同"
   ]
  }
 ],
 "metadata": {
  "kernelspec": {
   "display_name": ".venv",
   "language": "python",
   "name": "python3"
  },
  "language_info": {
   "codemirror_mode": {
    "name": "ipython",
    "version": 3
   },
   "file_extension": ".py",
   "mimetype": "text/x-python",
   "name": "python",
   "nbconvert_exporter": "python",
   "pygments_lexer": "ipython3",
   "version": "3.12.3"
  }
 },
 "nbformat": 4,
 "nbformat_minor": 5
}
