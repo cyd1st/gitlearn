{
 "cells": [
  {
   "cell_type": "code",
   "execution_count": 4,
   "id": "71139f5f",
   "metadata": {},
   "outputs": [
    {
     "ename": "SyntaxError",
     "evalue": "invalid syntax (366044783.py, line 3)",
     "output_type": "error",
     "traceback": [
      "\u001b[1;36m  Cell \u001b[1;32mIn [4], line 3\u001b[1;36m\u001b[0m\n\u001b[1;33m    return bundle_error[\"description\"] = \"NAME_FORMAT_ERROR\"\u001b[0m\n\u001b[1;37m                                       ^\u001b[0m\n\u001b[1;31mSyntaxError\u001b[0m\u001b[1;31m:\u001b[0m invalid syntax\n"
     ]
    }
   ],
   "source": [
    "def retun_test():\n",
    "    bundle_error = {}\n",
    "    return bundle_error[\"description\"] = \"NAME_FORMAT_ERROR\"\n",
    "\n",
    "print(retun_test())"
   ]
  },
  {
   "cell_type": "code",
   "execution_count": 7,
   "id": "193776ff",
   "metadata": {},
   "outputs": [
    {
     "name": "stdout",
     "output_type": "stream",
     "text": [
      "None\n"
     ]
    }
   ],
   "source": [
    "def retun_test():\n",
    "    bundle_error = []\n",
    "    bundle_error.append(\"hahaha\")\n",
    "    return bundle_error.append(\"hahaha\")\n",
    "#     return bundle_error\n",
    "    \n",
    "\n",
    "print(retun_test())"
   ]
  },
  {
   "cell_type": "code",
   "execution_count": 8,
   "id": "19010ce7",
   "metadata": {},
   "outputs": [],
   "source": [
    "l = []\n",
    "for i in l:\n",
    "    print(\"hahah\")"
   ]
  },
  {
   "cell_type": "markdown",
   "id": "8fe776df",
   "metadata": {},
   "source": [
    "## 判断字符串是否为数值\n",
    "负数字符串是否能用 isdigit()"
   ]
  },
  {
   "cell_type": "code",
   "execution_count": 18,
   "id": "df36fe95",
   "metadata": {},
   "outputs": [
    {
     "name": "stdout",
     "output_type": "stream",
     "text": [
      "False\n",
      "False\n",
      "False\n"
     ]
    }
   ],
   "source": [
    "s = \"-100.89\"\n",
    "print(s.isdigit())\n",
    "\n",
    "s2 = \"100.89\"\n",
    "print(s2.isdigit())\n",
    "\n",
    "s3 = \"100.89KB\"\n",
    "print(s3.isdigit())"
   ]
  },
  {
   "cell_type": "markdown",
   "id": "dd3c4175",
   "metadata": {},
   "source": [
    "使用 float() 函数"
   ]
  },
  {
   "cell_type": "code",
   "execution_count": 17,
   "id": "c1fc0c50",
   "metadata": {},
   "outputs": [
    {
     "name": "stdout",
     "output_type": "stream",
     "text": [
      "-100.89\n",
      "100.89\n",
      "~100.89 not a number.\n",
      "100.9KB not a number.\n"
     ]
    },
    {
     "data": {
      "text/plain": [
       "False"
      ]
     },
     "execution_count": 17,
     "metadata": {},
     "output_type": "execute_result"
    }
   ],
   "source": [
    "s = \"-100.89\"\n",
    "print(float(s))\n",
    "\n",
    "s2 = \"100.89\"\n",
    "print(float(s2))\n",
    "\n",
    "s3 = \"~100.89\"\n",
    "s4 = \"100.9KB\"\n",
    "# print(float(s3))\n",
    "def is_number(s:str) -> bool:\n",
    "    try:\n",
    "        print(s + ' = ' + float(s))\n",
    "        return True\n",
    "    except:\n",
    "        print(s + ' not a number.')\n",
    "        return False\n",
    "\n",
    "is_number(s3)\n",
    "is_number(s4)"
   ]
  },
  {
   "cell_type": "markdown",
   "id": "65e827bf",
   "metadata": {},
   "source": [
    "## 字符串为空是否等于 False"
   ]
  },
  {
   "cell_type": "code",
   "execution_count": 19,
   "id": "16b8daa7",
   "metadata": {},
   "outputs": [
    {
     "name": "stdout",
     "output_type": "stream",
     "text": [
      "字符串为空。\n"
     ]
    }
   ],
   "source": [
    "s = \"\"\n",
    "if not s:\n",
    "    print(\"字符串为空。\")"
   ]
  },
  {
   "cell_type": "markdown",
   "id": "ed9f9e56",
   "metadata": {},
   "source": [
    "------------"
   ]
  },
  {
   "cell_type": "code",
   "execution_count": 22,
   "id": "a118b8f6",
   "metadata": {},
   "outputs": [
    {
     "name": "stdout",
     "output_type": "stream",
     "text": [
      "find . -name bundle.json ! -path \"./out/*\" ! -path \"./.repo/*\"\n"
     ]
    }
   ],
   "source": [
    "def get_all_bundle_json(project_path:str = '.') -> list:\n",
    "    # cmd = 'find -name bundle.json ! -path \"./out/*\" ! -path \"./.repo/*\"'\n",
    "    exclude_list = [\n",
    "        r'\"./out/*\"',\n",
    "        r'\"./.repo/*\"'\n",
    "    ]\n",
    "    cmd = \"find {} -name {}\".format(project_path, \"bundle.json\")\n",
    "    for i in exclude_list:\n",
    "        cmd += \" ! -path {}\".format(i)\n",
    "    print(cmd)\n",
    "\n",
    "get_all_bundle_json()"
   ]
  },
  {
   "cell_type": "markdown",
   "id": "786b52e5",
   "metadata": {},
   "source": [
    "## 普通字符串转义 * 吗？"
   ]
  },
  {
   "cell_type": "code",
   "execution_count": 20,
   "id": "557c7664",
   "metadata": {},
   "outputs": [
    {
     "name": "stdout",
     "output_type": "stream",
     "text": [
      "./out/*\n",
      "./out/*\n"
     ]
    }
   ],
   "source": [
    "s1 = \"./out/*\"\n",
    "s2 = r\"./out/*\"\n",
    "\n",
    "print(s1)\n",
    "print(s2)"
   ]
  },
  {
   "cell_type": "markdown",
   "id": "36e2cebd",
   "metadata": {},
   "source": [
    "## os.path.normpath"
   ]
  },
  {
   "cell_type": "code",
   "execution_count": 23,
   "id": "360271ab",
   "metadata": {},
   "outputs": [
    {
     "data": {
      "text/plain": [
       "'path\\\\to\\\\bnundle.json\\n'"
      ]
     },
     "execution_count": 23,
     "metadata": {},
     "output_type": "execute_result"
    }
   ],
   "source": [
    "path = 'path/to/bnundle.json\\n'\n",
    "\n",
    "import os\n",
    "\n",
    "os.path.normpath(path)\n"
   ]
  },
  {
   "cell_type": "markdown",
   "id": "fe184b36",
   "metadata": {},
   "source": [
    "strip 默认包括哪些符号？"
   ]
  },
  {
   "cell_type": "code",
   "execution_count": 24,
   "id": "f3da88cf",
   "metadata": {},
   "outputs": [
    {
     "data": {
      "text/plain": [
       "'path/to/bnundle.json'"
      ]
     },
     "execution_count": 24,
     "metadata": {},
     "output_type": "execute_result"
    }
   ],
   "source": [
    "path = 'path/to/bnundle.json\\n'\n",
    "path.strip()\n"
   ]
  },
  {
   "cell_type": "code",
   "execution_count": 33,
   "id": "60027eab",
   "metadata": {},
   "outputs": [
    {
     "data": {
      "text/plain": [
       "['aa', 'bb']"
      ]
     },
     "execution_count": 33,
     "metadata": {},
     "output_type": "execute_result"
    }
   ],
   "source": [
    "l = list([\"aa\", \"bb\"])\n",
    "l"
   ]
  },
  {
   "cell_type": "markdown",
   "id": "bac2ba62",
   "metadata": {},
   "source": [
    "## 新建字典"
   ]
  },
  {
   "cell_type": "code",
   "execution_count": 36,
   "id": "be8c0dec",
   "metadata": {},
   "outputs": [
    {
     "data": {
      "text/plain": [
       "{'a': {'中文。': ['li', '列']}}"
      ]
     },
     "execution_count": 36,
     "metadata": {},
     "output_type": "execute_result"
    }
   ],
   "source": [
    "b = {}\n",
    "b['a'] = dict([(\"中文。\", ['li', '列'])])\n",
    "\n",
    "b"
   ]
  },
  {
   "cell_type": "code",
   "execution_count": 45,
   "id": "8df86fc1",
   "metadata": {},
   "outputs": [
    {
     "data": {
      "text/plain": [
       "'asdfgfdsfsf'"
      ]
     },
     "execution_count": 45,
     "metadata": {},
     "output_type": "execute_result"
    }
   ],
   "source": [
    "d = {}"
   ]
  },
  {
   "cell_type": "markdown",
   "id": "8858462b",
   "metadata": {},
   "source": [
    "## with 是否为局部作用域"
   ]
  },
  {
   "cell_type": "code",
   "execution_count": 48,
   "id": "6032430a",
   "metadata": {},
   "outputs": [
    {
     "data": {
      "text/plain": [
       "'1234567890\\nabcdefjh'"
      ]
     },
     "execution_count": 48,
     "metadata": {},
     "output_type": "execute_result"
    }
   ],
   "source": [
    "with  open(\"out/test.txt\", 'r') as f:\n",
    "    txt = f.read()\n",
    "\n",
    "txt\n",
    "# f"
   ]
  },
  {
   "cell_type": "markdown",
   "id": "a29437d1",
   "metadata": {},
   "source": [
    "# re"
   ]
  },
  {
   "cell_type": "code",
   "execution_count": 12,
   "id": "082970e8",
   "metadata": {},
   "outputs": [
    {
     "name": "stdout",
     "output_type": "stream",
     "text": [
      "name @ohos/ace_engine_lite\n",
      "name @ohos/ace\n",
      "destPath foundation/arkui/ace_engine_lite\n",
      "name ace_engine_lite\n",
      "syscap SystemCapability.Developtools.Syscap.pcid\n",
      "version 3.2.1\n",
      "feature Tis.is.a.feature\n",
      "adapted_system_type liteos_m\n",
      "\"adapted_system_type\": [ \"small\", \"standard\", \"liteos_m\"\n"
     ]
    }
   ],
   "source": [
    "import re\n",
    "def check_diff_by_line(s:str) -> str:\n",
    "    s = s.strip()\n",
    "    match = re.match(r'\"(\\w+)\"\\s*:.*\"(.+)\"', s)\n",
    "    if not match:\n",
    "        return None\n",
    "    key = match.group(1)\n",
    "    value = match.group(2)\n",
    "    print(key, value)\n",
    "\n",
    "    if key == 'adapted_system_type':\n",
    "        # v = value.split('/')[1] if ('/' in value) else value\n",
    "        print(match.group())\n",
    "    return\n",
    "\n",
    "str1 =   r'\"name\": \"@ohos/ace_engine_lite\",\\n'\n",
    "str2 =   r'\"name\": \"@ohos/ace\",\\n'\n",
    "str3 = r'    \"destPath\": \"foundation/arkui/ace_engine_lite\"'\n",
    "str4 = r'    \"name\": \"ace_engine_lite\",'\n",
    "str5 = r'    \"syscap\": [ \"SystemCapability.Developtools.Syscap.pcid\"'\n",
    "str6 = r'  \"version\": \"3.2.1\",'\n",
    "str7 = r'    \"feature\": [\"Tis.is.a.feature\"],'\n",
    "str8 = r'    \"adapted_system_type\": [ \"small\", \"standard\", \"liteos_m\" ],'\n",
    "check_diff_by_line(str1)\n",
    "check_diff_by_line(str2)\n",
    "check_diff_by_line(str3)\n",
    "check_diff_by_line(str4)\n",
    "check_diff_by_line(str5)\n",
    "check_diff_by_line(str6)\n",
    "check_diff_by_line(str7)\n",
    "check_diff_by_line(str8)"
   ]
  },
  {
   "cell_type": "markdown",
   "id": "1859cc37-4097-409e-a0f0-5508e48ca610",
   "metadata": {},
   "source": [
    "## PrettyTable"
   ]
  },
  {
   "cell_type": "code",
   "execution_count": 13,
   "id": "c35b2c08-4d3c-4d59-965b-2d0e0b498a6f",
   "metadata": {},
   "outputs": [
    {
     "name": "stdout",
     "output_type": "stream",
     "text": [
      "+-----------+------+------------+-----------------+\n",
      "| City name | Area | Population | Annual Rainfall |\n",
      "+-----------+------+------------+-----------------+\n",
      "+-----------+------+------------+-----------------+\n"
     ]
    }
   ],
   "source": [
    "from prettytable import PrettyTable\n",
    "x = PrettyTable()\n",
    "x.title = \"Table 1\"\n",
    "x.field_names = [\"City name\", \"Area\", \"Population\", \"Annual Rainfall\"]\n",
    "x.add_row([\"Adelaide\", 1295, 1158259, 600.5])\n",
    "# print(x)\n",
    "\n",
    "t2 = PrettyTable([\"City name\", \"Area\", \"Population\", \"Annual Rainfall\"])\n",
    "x.align[\"Area\"] = \"1\"\n",
    "print(t2)"
   ]
  },
  {
   "cell_type": "code",
   "execution_count": 38,
   "id": "d4888b19-a592-4537-b8e3-47239ccb7ca4",
   "metadata": {},
   "outputs": [],
   "source": [
    "import os\n",
    "def export_to_pt(d:dict, path:str, filename=\"check_diff.txt\"):\n",
    "        '''\n",
    "        @func: trans result of check_diff to prettytable format.\n",
    "        '''\n",
    "        # d = BundleCheckTools.check_diff()\n",
    "        columns = ['文件', '违反规则', '详细', '说明']\n",
    "        t = PrettyTable(columns)\n",
    "        for f in d:\n",
    "            for i in d[f]:\n",
    "                row = [f, \"CHECK_RULE_2_1\"]\n",
    "                row.extend([i[0], i[1]])\n",
    "                # print(row) # test\n",
    "                # print(len(row)) # test\n",
    "                t.add_row(row)\n",
    "        output_full_path = os.path.join(path, filename)\n",
    "        t.align[\"文件\"] = 'l'\n",
    "        t.align[\"详细\"] = 'l'\n",
    "        t.align[\"说明\"] = 'l'\n",
    "        with open(output_full_path, 'w', encoding='utf-8') as f:\n",
    "            f.write(t.get_string())\n",
    "\n",
    "d = {\n",
    "    \"/home/cyd/ohos/foundation/arkui/ace_engine_lite/bundle.json\": [\n",
    "        [\n",
    "            19,\n",
    "            \"部件名不能超过 63 个有效英文字符，且使用小写加下划线风格命名，如：unix_like。\"\n",
    "        ],\n",
    "        [\n",
    "            38,\n",
    "            \"\\\"component:rom\\\" 非数值或者小于等于 0。\"\n",
    "        ]\n",
    "    ],\n",
    "    \"commonlibrary/memory_utils/bundle.json\": [\n",
    "        [\n",
    "            19,\n",
    "            \"部件名不能超过 63 个有效英文字符，且使用小写加下划线风格命名，如：unix_like。\"\n",
    "        ],\n",
    "        [\n",
    "            38,\n",
    "            \"\\\"component:ram\\\" 非数值或者小于等于 0。\"\n",
    "        ]\n",
    "    ]\n",
    "}\n",
    "\n",
    "export_to_pt(d, 'out')"
   ]
  },
  {
   "cell_type": "markdown",
   "id": "688d76a1-b600-420b-ac79-b9329743e407",
   "metadata": {},
   "source": [
    "## return 多个元素"
   ]
  },
  {
   "cell_type": "code",
   "execution_count": 39,
   "id": "2f3dc8f7-d8fd-452c-82ce-d90182875d2f",
   "metadata": {},
   "outputs": [
    {
     "name": "stdout",
     "output_type": "stream",
     "text": [
      "(1, 2)\n"
     ]
    }
   ],
   "source": [
    "def return_v():\n",
    "    a = 1\n",
    "    b = 2\n",
    "    return a,b\n",
    "\n",
    "c = return_v()\n",
    "\n",
    "print(c)"
   ]
  },
  {
   "cell_type": "markdown",
   "id": "c498bcdb-8bb8-4794-bd13-80e04962f662",
   "metadata": {},
   "source": [
    "## log 对数函数"
   ]
  },
  {
   "cell_type": "code",
   "execution_count": 35,
   "id": "1ed61602-29ff-46d5-b7bb-a9373a8018e6",
   "metadata": {},
   "outputs": [
    {
     "name": "stdout",
     "output_type": "stream",
     "text": [
      "0.5\n"
     ]
    }
   ],
   "source": [
    "from math import log\n",
    "from functools import partial\n",
    "\n",
    "l3 = partial(log, 3)\n",
    "\n",
    "print(l3(9))\n",
    "# print(log(8, a=2))\n"
   ]
  },
  {
   "cell_type": "code",
   "execution_count": 32,
   "id": "61257cf7-514b-47ec-92b5-738896304258",
   "metadata": {},
   "outputs": [
    {
     "ename": "TypeError",
     "evalue": "f() got an unexpected keyword argument 'b'",
     "output_type": "error",
     "traceback": [
      "\u001b[1;31m---------------------------------------------------------------------------\u001b[0m",
      "\u001b[1;31mTypeError\u001b[0m                                 Traceback (most recent call last)",
      "Cell \u001b[1;32mIn [32], line 4\u001b[0m\n\u001b[0;32m      2\u001b[0m     \u001b[38;5;28mprint\u001b[39m(\u001b[38;5;124mf\u001b[39m\u001b[38;5;124m\"\u001b[39m\u001b[38;5;132;01m{\u001b[39;00ma\u001b[38;5;132;01m}\u001b[39;00m\u001b[38;5;124m\"\u001b[39m)\n\u001b[0;32m      3\u001b[0m \u001b[38;5;66;03m# f2 = partial(f, b=20)\u001b[39;00m\n\u001b[1;32m----> 4\u001b[0m \u001b[43mf2\u001b[49m\u001b[43m(\u001b[49m\u001b[38;5;241;43m10\u001b[39;49m\u001b[43m,\u001b[49m\u001b[43m \u001b[49m\u001b[43mc\u001b[49m\u001b[38;5;241;43m=\u001b[39;49m\u001b[38;5;241;43m20\u001b[39;49m\u001b[43m)\u001b[49m\n",
      "\u001b[1;31mTypeError\u001b[0m: f() got an unexpected keyword argument 'b'"
     ]
    }
   ],
   "source": [
    "def f(a, b=100):\n",
    "    print(f\"{a}\")\n",
    "# f2 = partial(f, b=20)\n",
    "f2(10, c=20)"
   ]
  },
  {
   "cell_type": "markdown",
   "id": "a8c94431-233e-4460-affc-3ab0c7416e97",
   "metadata": {},
   "source": [
    "## 全局类"
   ]
  },
  {
   "cell_type": "code",
   "execution_count": 2,
   "id": "c9a4b15b-9b74-4fc8-9fa2-7c37fa41821c",
   "metadata": {},
   "outputs": [
    {
     "name": "stdout",
     "output_type": "stream",
     "text": [
      "['helloWorld']\n"
     ]
    }
   ],
   "source": [
    "class ErrorInfo:\n",
    "    g_subsystem_path_error = []  # subsystem path exist in subsystem_config.json\n",
    "    g_component_path_empty = []  # bundle.json path which cant get component path.\n",
    "    g_component_abs_path = []\n",
    "\n",
    "def check():\n",
    "    ErrorInfo.g_subsystem_path_error.append(\"helloWorld\")\n",
    "\n",
    "def printH():\n",
    "    print(ErrorInfo.g_subsystem_path_error)\n",
    "\n",
    "check()\n",
    "printH()\n"
   ]
  },
  {
   "cell_type": "markdown",
   "id": "34e591a1-f2ce-4898-8658-4b66b3f63424",
   "metadata": {},
   "source": [
    "## pytutor"
   ]
  },
  {
   "cell_type": "code",
   "execution_count": 8,
   "id": "294cc935-8899-4055-b97f-3daf62e50f3b",
   "metadata": {},
   "outputs": [
    {
     "name": "stderr",
     "output_type": "stream",
     "text": [
      "UsageError: Line magic function `%%tutor` not found.\n"
     ]
    }
   ],
   "source": [
    "%reload_ext tutormagic\n",
    "%%tutor -l python3\n",
    "\n",
    "x = [1,2,3]\n",
    "y = x\n",
    "x.append('hi')"
   ]
  },
  {
   "cell_type": "markdown",
   "id": "d019168e-c6cb-4f68-8013-bac779a15340",
   "metadata": {},
   "source": [
    "## 快速排序"
   ]
  },
  {
   "cell_type": "code",
   "execution_count": 27,
   "id": "5aeefa8e-a21a-402d-834c-b358d91271aa",
   "metadata": {},
   "outputs": [
    {
     "name": "stdout",
     "output_type": "stream",
     "text": [
      "[1, 2, 3, 5, 6, 7, 8, 8]\n"
     ]
    }
   ],
   "source": [
    "from itertools import permutations # 这是是为写测试用例\n",
    "\n",
    "def quick_sort(vec, start, end):\n",
    "    if end - start <= 1:\n",
    "        return\n",
    "    q = partition(vec, start, end)\n",
    "    quick_sort(vec, start, q)\n",
    "    quick_sort(vec, q+1, end)\n",
    "\n",
    "def partition(vec, start, end):\n",
    "    pivot = vec[start]\n",
    "    j = start+1\n",
    "    i = start+1\n",
    "    while i < end:\n",
    "        if vec[i] < pivot:\n",
    "            vec[i], vec[j] = vec[j], vec[i]\n",
    "            j += 1\n",
    "        i += 1\n",
    "    vec[j-1], vec[start] = vec[start], vec[j-1]\n",
    "    return j\n",
    "\n",
    "def test():\n",
    "    case = [8, 2, 3, 8, 5, 6, 7, 1]\n",
    "\n",
    "    quick_sort(case, 0, len(case))\n",
    "\n",
    "    print(case)\n",
    "    \n",
    "    # print('test pass')\n",
    "\n",
    "\n",
    "test()"
   ]
  },
  {
   "cell_type": "markdown",
   "id": "d88ed038-c889-45cb-8f54-e8e36a8bfd00",
   "metadata": {},
   "source": [
    "## 函数是否会被重复执行？"
   ]
  },
  {
   "cell_type": "code",
   "execution_count": 39,
   "id": "9bfc8e62-7660-483a-8f67-5fe0b8dd244e",
   "metadata": {},
   "outputs": [
    {
     "ename": "AttributeError",
     "evalue": "type object 'Aclass' has no attribute 'get_name'",
     "output_type": "error",
     "traceback": [
      "\u001b[1;31m---------------------------------------------------------------------------\u001b[0m",
      "\u001b[1;31mAttributeError\u001b[0m                            Traceback (most recent call last)",
      "Cell \u001b[1;32mIn [39], line 1\u001b[0m\n\u001b[1;32m----> 1\u001b[0m \u001b[38;5;28;01mclass\u001b[39;00m \u001b[38;5;21;01mAclass\u001b[39;00m:\n\u001b[0;32m      2\u001b[0m     name \u001b[38;5;241m=\u001b[39m Aclass\u001b[38;5;241m.\u001b[39mget_name()\n\u001b[0;32m      3\u001b[0m     \u001b[38;5;129m@staticmethod\u001b[39m\n\u001b[0;32m      4\u001b[0m     \u001b[38;5;28;01mdef\u001b[39;00m \u001b[38;5;21mget_name\u001b[39m():\n",
      "Cell \u001b[1;32mIn [39], line 2\u001b[0m, in \u001b[0;36mAclass\u001b[1;34m()\u001b[0m\n\u001b[0;32m      1\u001b[0m \u001b[38;5;28;01mclass\u001b[39;00m \u001b[38;5;21;01mAclass\u001b[39;00m:\n\u001b[1;32m----> 2\u001b[0m     name \u001b[38;5;241m=\u001b[39m \u001b[43mAclass\u001b[49m\u001b[38;5;241;43m.\u001b[39;49m\u001b[43mget_name\u001b[49m()\n\u001b[0;32m      3\u001b[0m     \u001b[38;5;129m@staticmethod\u001b[39m\n\u001b[0;32m      4\u001b[0m     \u001b[38;5;28;01mdef\u001b[39;00m \u001b[38;5;21mget_name\u001b[39m():\n\u001b[0;32m      5\u001b[0m         \u001b[38;5;28mprint\u001b[39m(\u001b[38;5;124m\"\u001b[39m\u001b[38;5;124mget name...\u001b[39m\u001b[38;5;124m\"\u001b[39m)\n",
      "\u001b[1;31mAttributeError\u001b[0m: type object 'Aclass' has no attribute 'get_name'"
     ]
    }
   ],
   "source": [
    "\n",
    "class Aclass:\n",
    "    name = Aclass.get_name()\n",
    "    @staticmethod\n",
    "    def get_name():\n",
    "        print(\"get name...\")\n",
    "        return \"hello\"\n",
    "\n",
    "print(Aclass.name)\n",
    "print(Aclass.name)\n",
    "print(Aclass.name)"
   ]
  },
  {
   "cell_type": "code",
   "execution_count": 4,
   "id": "674c3f7a-5fc2-40d2-a6f1-93ca7f88d22a",
   "metadata": {},
   "outputs": [
    {
     "name": "stdout",
     "output_type": "stream",
     "text": [
      "(500.0, 'KB')\n",
      "(500.0, '')\n"
     ]
    }
   ],
   "source": [
    "import re\n",
    "def split_by_unit(s:str):\n",
    "    '''分离 s 字符串的数值和单位'''\n",
    "    match = re.match(r'^[~]?(\\d+)([a-zA-Z]*)$', s)\n",
    "    if not match:\n",
    "        return (0, '')\n",
    "    return (float(match.group(1)), match.group(2))\n",
    "\n",
    "print(split_by_unit('~500KB'))\n",
    "print(split_by_unit('~500'))"
   ]
  },
  {
   "cell_type": "code",
   "execution_count": 7,
   "id": "5f307c1b-a573-42be-99d5-accaeabab7fe",
   "metadata": {},
   "outputs": [
    {
     "name": "stdout",
     "output_type": "stream",
     "text": [
      "hello\n",
      "None\n"
     ]
    }
   ],
   "source": [
    "d = {\n",
    "    \"component\" : {\n",
    "        \"name\" : \"hello\"\n",
    "    }\n",
    "}\n",
    "\n",
    "res = d.get('component').get('name')\n",
    "print(res)\n",
    "res = d.get('component').get('nam')\n",
    "print(res)"
   ]
  },
  {
   "cell_type": "code",
   "execution_count": 9,
   "id": "3cdacdd7-8b56-48fc-bc6a-19450750589d",
   "metadata": {},
   "outputs": [
    {
     "name": "stdout",
     "output_type": "stream",
     "text": [
      "{'fgh', 'rty', 'asd'}\n"
     ]
    }
   ],
   "source": [
    "l = ['asd', 'fgh', 'rty', 'asd']\n",
    "t = set(l)\n",
    "print(t)"
   ]
  },
  {
   "cell_type": "markdown",
   "id": "09d48077-f65e-4b98-9245-94ff00192cec",
   "metadata": {},
   "source": [
    "## 格式化字符串"
   ]
  },
  {
   "cell_type": "code",
   "execution_count": 3,
   "id": "1dcb3f49-3508-49b4-87e6-92aa57d0b6a3",
   "metadata": {},
   "outputs": [
    {
     "name": "stdout",
     "output_type": "stream",
     "text": [
      "abc/123/def\n"
     ]
    }
   ],
   "source": [
    "id = '123'\n",
    "path = f'abc/{id}/def'\n",
    "print(path)"
   ]
  },
  {
   "cell_type": "markdown",
   "id": "c411660b-d1ae-4cee-970a-de092c424edf",
   "metadata": {},
   "source": [
    "## 构造 dict "
   ]
  },
  {
   "cell_type": "code",
   "execution_count": 4,
   "id": "f1d08e5a-0d7a-4a04-8700-a34ee3e5cf95",
   "metadata": {},
   "outputs": [
    {
     "data": {
      "text/plain": [
       "{'a': 1, 'b': 2, 'c': 3}"
      ]
     },
     "execution_count": 4,
     "metadata": {},
     "output_type": "execute_result"
    }
   ],
   "source": [
    "a = 1\n",
    "b = 2\n",
    "c = 3\n",
    "dict(a=a, b=b, c=c) "
   ]
  },
  {
   "cell_type": "markdown",
   "id": "d389a8e7-a6e4-449a-bfff-3a9edd1c6e66",
   "metadata": {},
   "source": [
    "## list 的 extern"
   ]
  },
  {
   "cell_type": "code",
   "execution_count": 25,
   "id": "2ee5d0f3-dc42-4025-ac73-c35b6a539d28",
   "metadata": {},
   "outputs": [
    {
     "name": "stdout",
     "output_type": "stream",
     "text": [
      "[1]\n",
      "[[1]]\n",
      "[1]\n"
     ]
    }
   ],
   "source": [
    "l = [1]\n",
    "a = []\n",
    "b = []\n",
    "c = []\n",
    "a.extend(l)\n",
    "b.append(l)\n",
    "l.extend(c)\n",
    "print(a)\n",
    "print(b)\n",
    "print(l)"
   ]
  },
  {
   "cell_type": "code",
   "execution_count": 26,
   "id": "a13d56ac-e15f-42c3-8e45-a4f9070c14fc",
   "metadata": {},
   "outputs": [],
   "source": [
    "## list 的 '+'"
   ]
  },
  {
   "cell_type": "code",
   "execution_count": 1,
   "id": "05043ead-fe7d-4dd2-9a63-4a88af00af52",
   "metadata": {},
   "outputs": [
    {
     "data": {
      "text/plain": [
       "[1, 2, 3, 4]"
      ]
     },
     "execution_count": 1,
     "metadata": {},
     "output_type": "execute_result"
    }
   ],
   "source": [
    "a = [1,2]\n",
    "b = [3,4]\n",
    "a += b\n",
    "a"
   ]
  },
  {
   "cell_type": "markdown",
   "id": "2c254d92-06bf-4bdd-ae6f-65f9f7d7423f",
   "metadata": {},
   "source": [
    "## 空字符串与 None 的区别"
   ]
  },
  {
   "cell_type": "code",
   "execution_count": 4,
   "id": "2ad1f285-a600-4f98-9b40-4a84a3dc10df",
   "metadata": {},
   "outputs": [
    {
     "name": "stdout",
     "output_type": "stream",
     "text": [
      "\"\" is not None\n"
     ]
    }
   ],
   "source": [
    "s = \"\"\n",
    "a = None\n",
    "\n",
    "# ------\n",
    "len(s)\n",
    "# len(a) # error, 'NoneType' has no len*()\n",
    "\n",
    "# ------\n",
    "if s is not None:\n",
    "    print('\"\" is not None')"
   ]
  },
  {
   "cell_type": "markdown",
   "id": "1be40ccf-c763-4626-ae32-592e60021160",
   "metadata": {},
   "source": [
    "## 手动排序 set"
   ]
  },
  {
   "cell_type": "code",
   "execution_count": 6,
   "id": "fc6816c3-fe1e-4851-a250-e573f5df73bf",
   "metadata": {},
   "outputs": [
    {
     "name": "stdout",
     "output_type": "stream",
     "text": [
      "{'other'}\n",
      "{'other', 'system', 'chipset'}\n",
      "{'other', 'system', 'chipset', 'unknown'}\n"
     ]
    }
   ],
   "source": [
    "res = \"\"\n",
    "aset = set([\"other\"])\n",
    "print(aset)\n",
    "aset.update([\"chipset\", \"system\"])\n",
    "print(aset)\n",
    "aset.update([\"unknown\"])\n",
    "print(aset)\n",
    "\n",
    "if (\"chipset\" in aset)"
   ]
  }
 ],
 "metadata": {
  "kernelspec": {
   "display_name": "Python 3 (ipykernel)",
   "language": "python",
   "name": "python3"
  },
  "language_info": {
   "codemirror_mode": {
    "name": "ipython",
    "version": 3
   },
   "file_extension": ".py",
   "mimetype": "text/x-python",
   "name": "python",
   "nbconvert_exporter": "python",
   "pygments_lexer": "ipython3",
   "version": "3.9.7"
  }
 },
 "nbformat": 4,
 "nbformat_minor": 5
}
