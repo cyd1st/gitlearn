{
 "cells": [
  {
   "cell_type": "markdown",
   "id": "cbdd0681-f549-4c2f-9c26-721760f14328",
   "metadata": {},
   "source": [
    "# 异常"
   ]
  },
  {
   "cell_type": "markdown",
   "id": "52f81cd3-d011-4bf8-a1e1-a85d124d5554",
   "metadata": {
    "tags": []
   },
   "source": [
    "## 仅使用 raise"
   ]
  },
  {
   "cell_type": "code",
   "execution_count": 1,
   "id": "80bef010-75a6-4dba-b608-e362e0e94146",
   "metadata": {},
   "outputs": [
    {
     "name": "stdin",
     "output_type": "stream",
     "text": [
      "输入一个数： a\n"
     ]
    },
    {
     "ename": "ValueError",
     "evalue": "a 必须是数字",
     "output_type": "error",
     "traceback": [
      "\u001b[1;31m---------------------------------------------------------------------------\u001b[0m",
      "\u001b[1;31mValueError\u001b[0m                                Traceback (most recent call last)",
      "Cell \u001b[1;32mIn [1], line 4\u001b[0m\n\u001b[0;32m      2\u001b[0m \u001b[38;5;66;03m#判断用户输入的是否为数字\u001b[39;00m\n\u001b[0;32m      3\u001b[0m \u001b[38;5;28;01mif\u001b[39;00m(\u001b[38;5;129;01mnot\u001b[39;00m a\u001b[38;5;241m.\u001b[39misdigit()):\n\u001b[1;32m----> 4\u001b[0m     \u001b[38;5;28;01mraise\u001b[39;00m \u001b[38;5;167;01mValueError\u001b[39;00m(\u001b[38;5;124m\"\u001b[39m\u001b[38;5;124ma 必须是数字\u001b[39m\u001b[38;5;124m\"\u001b[39m)\n",
      "\u001b[1;31mValueError\u001b[0m: a 必须是数字"
     ]
    }
   ],
   "source": [
    "a = input(\"输入一个数：\")\n",
    "#判断用户输入的是否为数字\n",
    "if(not a.isdigit()):\n",
    "    raise ValueError(\"a 必须是数字\")"
   ]
  },
  {
   "cell_type": "markdown",
   "id": "274433ac-bcd6-4a32-a1be-b5d38fefd8cb",
   "metadata": {},
   "source": [
    "### 结论\n",
    "仅使用 raise 会抛出异常，引起程序中断。"
   ]
  },
  {
   "cell_type": "markdown",
   "id": "1500a3b5-d3d4-46ea-ad7a-c5333f17e597",
   "metadata": {},
   "source": [
    "## 使用 try...except"
   ]
  },
  {
   "cell_type": "code",
   "execution_count": 5,
   "id": "99ba4226-c482-45bf-882d-b6fcbd5ca476",
   "metadata": {},
   "outputs": [
    {
     "name": "stdin",
     "output_type": "stream",
     "text": [
      "输入一个数： a\n"
     ]
    },
    {
     "name": "stdout",
     "output_type": "stream",
     "text": [
      "引发异常： ValueError('get root path failed, please check script \"bundle_check_common.py\" under the path(build/tools/component_tools/static_check/bundle_check).')\n"
     ]
    }
   ],
   "source": [
    "try:\n",
    "    a = input(\"输入一个数：\")\n",
    "    #判断用户输入的是否为数字\n",
    "    if(not a.isdigit()):\n",
    "        raise ValueError(\n",
    "            'get root path failed, please check script \"bundle_check_common.py\" under '\n",
    "            'the path(build/tools/component_tools/static_check/bundle_check).')\n",
    "except ValueError as e:\n",
    "    print(\"引发异常：\",repr(e))"
   ]
  },
  {
   "cell_type": "code",
   "execution_count": null,
   "id": "3728e1b0-3ffc-43c7-961d-3a1d321fcdbf",
   "metadata": {},
   "outputs": [],
   "source": []
  }
 ],
 "metadata": {
  "kernelspec": {
   "display_name": "Python 3 (ipykernel)",
   "language": "python",
   "name": "python3"
  },
  "language_info": {
   "codemirror_mode": {
    "name": "ipython",
    "version": 3
   },
   "file_extension": ".py",
   "mimetype": "text/x-python",
   "name": "python",
   "nbconvert_exporter": "python",
   "pygments_lexer": "ipython3",
   "version": "3.9.7"
  }
 },
 "nbformat": 4,
 "nbformat_minor": 5
}
