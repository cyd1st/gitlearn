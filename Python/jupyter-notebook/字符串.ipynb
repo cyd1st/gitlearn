{
 "cells": [
  {
   "cell_type": "markdown",
   "id": "f91ce01e-c37a-4482-a023-812fbdd85c66",
   "metadata": {},
   "source": [
    "# 字符串"
   ]
  },
  {
   "cell_type": "markdown",
   "id": "f809bbb1-ed78-41ba-b81f-56566e72e7fa",
   "metadata": {},
   "source": [
    "## join"
   ]
  },
  {
   "cell_type": "code",
   "execution_count": 3,
   "id": "d4dce3b7-9bf7-4180-92d0-16412a904f45",
   "metadata": {},
   "outputs": [
    {
     "name": "stdout",
     "output_type": "stream",
     "text": [
      "line16: 这一行的内容。\n",
      "line/16/: /这一行的内容。\n"
     ]
    }
   ],
   "source": [
    "str = \"\".join(('line', '16', \": \", \"这一行的内容。\"))\n",
    "print(str)\n",
    "\n",
    "str = \"/\".join(['line', '16', \": \", \"这一行的内容。\"])\n",
    "print(str)"
   ]
  }
 ],
 "metadata": {
  "kernelspec": {
   "display_name": "Python 3 (ipykernel)",
   "language": "python",
   "name": "python3"
  },
  "language_info": {
   "codemirror_mode": {
    "name": "ipython",
    "version": 3
   },
   "file_extension": ".py",
   "mimetype": "text/x-python",
   "name": "python",
   "nbconvert_exporter": "python",
   "pygments_lexer": "ipython3",
   "version": "3.9.7"
  }
 },
 "nbformat": 4,
 "nbformat_minor": 5
}
