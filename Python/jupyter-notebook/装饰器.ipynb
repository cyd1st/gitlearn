{
 "cells": [
  {
   "cell_type": "markdown",
   "id": "cd433bf6",
   "metadata": {},
   "source": [
    "# 装饰器"
   ]
  },
  {
   "cell_type": "markdown",
   "id": "49f6dfb5-38e4-486d-95cd-4a119f1da845",
   "metadata": {},
   "source": [
    "装饰器就是封装一个函数，在不修改原函数的形况下，给原函数增加新的功能。  \n",
    "> 封装函数就是在一个函数里面，调用另一个函数。    \n",
    "\n",
    "与平常函数调用的区别就是，这个**封装后的函数**与**原函数**的外形是一样的。  \n",
    "\n",
    "假设有一个原函数的功能是，一秒后打印 \"Hello World!\"。"
   ]
  },
  {
   "cell_type": "code",
   "execution_count": 3,
   "id": "c46ba6f3-cc57-40b4-bdcf-af0f656c8a98",
   "metadata": {},
   "outputs": [
    {
     "name": "stdout",
     "output_type": "stream",
     "text": [
      "Hello World!\n"
     ]
    }
   ],
   "source": [
    "import time\n",
    "def printDelay():\n",
    "    time.sleep(1)\n",
    "    print(\"Hello World!\")\n",
    "printDelay()"
   ]
  },
  {
   "cell_type": "markdown",
   "id": "c2a467eb-4649-4068-ad83-b2d9514f20f4",
   "metadata": {},
   "source": [
    "现在需要一个装饰器，能够计算原函数的执行时间。\n",
    "由上面可知，封装函数需要模仿原函数的外形，来取代原函数。\n",
    "所以封装函数如下定义：\n",
    "```python\n",
    "def warpper(*args, **kw):\n",
    "    start = time.time()\n",
    "    ret = fun(*args, **kw)\n",
    "    print(fun.__name__, \"run time:\", time.time() - start)\n",
    "    return ret\n",
    "```\n",
    "这里 `*args, **kw` 表示任意入参，`fun` 为需要封装的原函数。\n",
    "\n",
    "而**装饰器**就是要把这个**封装后的函数**作为变量返回，以达到取代原函数的作用。"
   ]
  },
  {
   "cell_type": "code",
   "execution_count": 5,
   "id": "c0431d89-248e-448a-9e75-8a7bb8cb99b5",
   "metadata": {},
   "outputs": [],
   "source": [
    "def printRunTime(fun): # 装饰器函数的入参就是要封装的原函数\n",
    "    def warpper(*args, **kw): # 将上面带具体功能的封装函数复制进来\n",
    "        start = time.time()\n",
    "        ret = fun(*args, **kw)\n",
    "        print(fun.__name__, \"run time:\", time.time() - start)\n",
    "        return ret\n",
    "    return warpper # 返回值就是封装后的函数"
   ]
  },
  {
   "cell_type": "markdown",
   "id": "198e5ecf-a28c-4978-af99-37b99dde608c",
   "metadata": {},
   "source": [
    "注意，装饰器只能用在函数定义的地方。"
   ]
  },
  {
   "cell_type": "code",
   "execution_count": 8,
   "id": "e1e414fc-02f8-4dfd-9a59-799ea39346c5",
   "metadata": {},
   "outputs": [
    {
     "name": "stdout",
     "output_type": "stream",
     "text": [
      "Hello World!\n",
      "delayPrint run time: 1.0030255317687988\n"
     ]
    }
   ],
   "source": [
    "@printRunTime\n",
    "def delayPrint(t):\n",
    "    time.sleep(t)\n",
    "    print(\"Hello World!\")\n",
    "\n",
    "delayPrint(1)"
   ]
  },
  {
   "cell_type": "markdown",
   "id": "6899e4c3-a473-486f-9a19-d2f31ba15b72",
   "metadata": {},
   "source": [
    "这样一个简单的计算函数运行时间的装饰器就写好了。  \n",
    "以上面为例：装饰器的运行逻辑就是 `delayPrint = printRunTime(delayPrint)`"
   ]
  },
  {
   "cell_type": "markdown",
   "id": "fdff824a-3a5e-49ff-9972-1e10227087ae",
   "metadata": {},
   "source": [
    "## 装饰器的入参\n",
    "如果装饰器本身需要入参呢？上面的装饰器函数是没有入参的。\n",
    "现在改造上面的 printRunTime 装饰器，添加在函数执行前输出自定义的文本。  \n",
    "首先确定封装函数怎么写。\n",
    "```python\n",
    "def warpper(*args, **kw): \n",
    "    print(text)    # 新增的功能\n",
    "    start = time.time()\n",
    "    ret = fun(*args, **kw)\n",
    "    print(fun.__name__, \"run time:\", time.time() - start)\n",
    "    return ret\n",
    "```\n",
    "这里有两个未知的变量，  \n",
    "`text` : 自定义的打印的文本。  \n",
    "`fun`  : 要被封装的原函数。  \n",
    "所以需要套两层函数，才能实现替换功能。每层函数的入参只有一个。  "
   ]
  },
  {
   "cell_type": "code",
   "execution_count": 13,
   "id": "e06f39a5-c436-47f5-95c0-5a4e327768de",
   "metadata": {},
   "outputs": [
    {
     "name": "stdout",
     "output_type": "stream",
     "text": [
      "开始运行了...\n",
      "Hello World!\n",
      "delayPrint1 run time: 2.0121119022369385\n"
     ]
    }
   ],
   "source": [
    "def printRunTimeLog(text):\n",
    "    def Decorator(fun):\n",
    "        def warpper(*args, **kw): # 将上面带具体功能的封装函数复制进来\n",
    "            print(text)    # 新增的功能\n",
    "            start = time.time()\n",
    "            ret = fun(*args, **kw)\n",
    "            print(fun.__name__, \"run time:\", time.time() - start)\n",
    "            return ret\n",
    "        return warpper\n",
    "    return Decorator\n",
    "\n",
    "@printRunTimeLog(\"开始运行了...\")\n",
    "def delayPrint1(t):\n",
    "    time.sleep(t)\n",
    "    print(\"Hello World!\")\n",
    "\n",
    "delayPrint1(2)   "
   ]
  },
  {
   "cell_type": "markdown",
   "id": "8f81363c-a0cb-4fcb-aae0-1af01d4ae033",
   "metadata": {},
   "source": [
    "为什么装饰器入参明明没有原函数的位置，装饰器函数却能准确的装饰上原函数呢？  \n",
    "只要理解装饰器运行原理，就很好理解了。  \n",
    "`delayPrint1 = printRunTimeLog(\"开始运行了...\")(delayPrint1)`  \n",
    "因为装饰器 `printRunTimeLog` 返回值就是一个函数（`Decorator`），而这个函数的入参就是 `delayPrint1`。"
   ]
  }
 ],
 "metadata": {
  "kernelspec": {
   "display_name": "Python 3 (ipykernel)",
   "language": "python",
   "name": "python3"
  },
  "language_info": {
   "codemirror_mode": {
    "name": "ipython",
    "version": 3
   },
   "file_extension": ".py",
   "mimetype": "text/x-python",
   "name": "python",
   "nbconvert_exporter": "python",
   "pygments_lexer": "ipython3",
   "version": "3.9.7"
  }
 },
 "nbformat": 4,
 "nbformat_minor": 5
}
