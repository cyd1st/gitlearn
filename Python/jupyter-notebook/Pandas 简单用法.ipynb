{
 "cells": [
  {
   "cell_type": "markdown",
   "id": "8ea46dfc",
   "metadata": {},
   "source": [
    "# Test: Pandas 的用法"
   ]
  },
  {
   "cell_type": "code",
   "execution_count": 38,
   "id": "b289d07a",
   "metadata": {},
   "outputs": [
    {
     "name": "stdout",
     "output_type": "stream",
     "text": [
      "1    Google\n",
      "2    Runoob\n",
      "dtype: object\n"
     ]
    }
   ],
   "source": [
    "import pandas as pd\n",
    "\n",
    "sites = {1: \"Google\", 2: \"Runoob\", 3: \"Wiki\"}\n",
    "\n",
    "myvar = pd.Series(sites, index = [1, 2])\n",
    "\n",
    "print(myvar)"
   ]
  },
  {
   "cell_type": "markdown",
   "id": "72e011a6",
   "metadata": {},
   "source": [
    "## DataFrame\n",
    "Pandas DataFrame 是一个二维的数组结构，类似二维数组。\n",
    "### 构造方法\n",
    "```python\n",
    "pandas.DataFrame( data, index, columns, dtype, copy)\n",
    "```\n",
    "### 参数说明\n",
    "- **data:** 一组数据\n",
    "- **index：** 索引值，或者可以称为行标签。\n",
    "- **columns：** 列标签，默认为 RangeIndex (0, 1, 2, …, n) 。\n",
    "- **dtype：** 数据类型。\n",
    "- **copy：** 拷贝数据，默认为 False。"
   ]
  },
  {
   "cell_type": "code",
   "execution_count": 16,
   "id": "63f3998e",
   "metadata": {},
   "outputs": [
    {
     "name": "stdout",
     "output_type": "stream",
     "text": [
      "     Site Age\n",
      "0  Google  10\n",
      "1  Runoob  12\n",
      "2    Wiki  13\n"
     ]
    }
   ],
   "source": [
    "import pandas as pd\n",
    "\n",
    "data = [['Google',10],['Runoob',12],['Wiki',13]]\n",
    "\n",
    "df = pd.DataFrame(data,columns=['Site','Age'],dtype='object')\n",
    "\n",
    "print(df)"
   ]
  },
  {
   "cell_type": "code",
   "execution_count": 4,
   "id": "64786b86",
   "metadata": {},
   "outputs": [
    {
     "name": "stdout",
     "output_type": "stream",
     "text": [
      "   a   b     c\n",
      "0  1   2   NaN\n",
      "1  5  10  20.0\n"
     ]
    }
   ],
   "source": [
    "import pandas as pd\n",
    "\n",
    "data = [{'a': 1, 'b': 2},{'a': 5, 'b': 10, 'c': 20}]\n",
    "\n",
    "df = pd.DataFrame(data)\n",
    "\n",
    "print (df)"
   ]
  },
  {
   "cell_type": "markdown",
   "id": "a54fac88",
   "metadata": {},
   "source": [
    "Pandas 可以使用 `loc` 属性返回指定行的数据，如果没有设置索引，第一行索引为 0，第二行索引为 1，以此类推："
   ]
  },
  {
   "cell_type": "code",
   "execution_count": 5,
   "id": "8125f4a5",
   "metadata": {},
   "outputs": [
    {
     "name": "stdout",
     "output_type": "stream",
     "text": [
      "calories    420\n",
      "duration     50\n",
      "Name: 0, dtype: int64\n",
      "calories    380\n",
      "duration     40\n",
      "Name: 1, dtype: int64\n"
     ]
    }
   ],
   "source": [
    "import pandas as pd\n",
    "\n",
    "data = {\n",
    "  \"calories\": [420, 380, 390],\n",
    "  \"duration\": [50, 40, 45]\n",
    "}\n",
    "\n",
    "# 数据载入到 DataFrame 对象\n",
    "df = pd.DataFrame(data)\n",
    "\n",
    "# 返回第一行\n",
    "print(df.loc[0])\n",
    "# 返回第二行\n",
    "print(df.loc[1])"
   ]
  },
  {
   "cell_type": "markdown",
   "id": "3ecc1fbb",
   "metadata": {},
   "source": [
    "**注意：** 返回结果其实就是一个 Pandas Series 数据。\n",
    "\n",
    "也可以返回多行数据，使用 `[[ ... ]]` 格式，`...` 为各行的索引，以逗号隔开："
   ]
  },
  {
   "cell_type": "code",
   "execution_count": 6,
   "id": "2291f260",
   "metadata": {},
   "outputs": [
    {
     "name": "stdout",
     "output_type": "stream",
     "text": [
      "   calories  duration\n",
      "0       420        50\n",
      "1       380        40\n"
     ]
    }
   ],
   "source": [
    "import pandas as pd\n",
    "\n",
    "data = {\n",
    "  \"calories\": [420, 380, 390],\n",
    "  \"duration\": [50, 40, 45]\n",
    "}\n",
    "\n",
    "# 数据载入到 DataFrame 对象\n",
    "df = pd.DataFrame(data)\n",
    "\n",
    "# 返回第一行和第二行\n",
    "print(df.loc[[0, 1]])"
   ]
  },
  {
   "cell_type": "markdown",
   "id": "cfeeac11",
   "metadata": {},
   "source": [
    "**注意：** 返回结果其实就是一个 Pandas DataFrame 数据。\n",
    "我们可以指定索引值，如下实例："
   ]
  },
  {
   "cell_type": "code",
   "execution_count": 20,
   "id": "14d2c72b",
   "metadata": {},
   "outputs": [
    {
     "name": "stdout",
     "output_type": "stream",
     "text": [
      "      calories  duration\n",
      "day1       420        50\n",
      "day2       380        40\n",
      "day3       390        45\n",
      "------ 输出第二行 ------\n",
      "calories    380\n",
      "duration     40\n",
      "Name: day2, dtype: int64\n"
     ]
    }
   ],
   "source": [
    "import pandas as pd\n",
    "\n",
    "data = {\n",
    "    \"calories\": [420, 380, 390],\n",
    "    \"duration\": [50, 40,45]\n",
    "}\n",
    "\n",
    "index = [\"day1\", \"day2\", \"day3\"]\n",
    "\n",
    "df = pd.DataFrame(data, index)\n",
    "\n",
    "print(df)\n",
    "print('------ 输出第二行 ------')\n",
    "print(df.loc[\"day2\"])"
   ]
  },
  {
   "cell_type": "markdown",
   "id": "6b337ba5",
   "metadata": {},
   "source": [
    "DataFrame 还可以添加一列数据。"
   ]
  },
  {
   "cell_type": "code",
   "execution_count": 21,
   "id": "13466cee",
   "metadata": {},
   "outputs": [
    {
     "name": "stdout",
     "output_type": "stream",
     "text": [
      "   mango  apple  pear  banana  sum\n",
      "0    420     50     1      23  494\n",
      "1    380     40     2      45  467\n",
      "2    390     45     3      56  494\n"
     ]
    }
   ],
   "source": [
    "import pandas as pd\n",
    "\n",
    "data = {\n",
    "  \"mango\": [420, 380, 390],\n",
    "  \"apple\": [50, 40, 45],\n",
    "  \"pear\": [1, 2, 3],\n",
    "  \"banana\": [23, 45,56]\n",
    "}\n",
    "\n",
    "df = pd.DataFrame(data)\n",
    "\n",
    "df['sum']=df['mango']+df['apple']+df['pear']+df['banana']\n",
    "\n",
    "print(df)"
   ]
  },
  {
   "cell_type": "markdown",
   "id": "60a234bb",
   "metadata": {},
   "source": [
    "### to_excel\n",
    "将 DataFrame 写入到 excel 文件中。\n",
    "```python\n",
    "to_excel(excel_writer，sheet_name=‘sheet1’，na_rep=’ ’ ，float_format=None，columns=None，header=True，index=True，index_label=None，startrow=0，startcol=0，engine=None，merge_cells=True，encoding=None，inf_rep=‘inf’，verbose=True，freeze_panes=None)\n",
    "```"
   ]
  },
  {
   "cell_type": "code",
   "execution_count": 36,
   "id": "8aa13bb9",
   "metadata": {},
   "outputs": [],
   "source": [
    "import pandas as pd\n",
    "\n",
    "data1 = {\n",
    "  \"mango\": [420, 380, 390],\n",
    "  \"apple\": [50, 40, 45],\n",
    "  \"pear\": [1, 2, 3],\n",
    "  \"banana\": [23, 45,56]\n",
    "}\n",
    "\n",
    "data2 = {\n",
    "    \"calories\": [420, 380, 390],\n",
    "    \"duration\": [50, 40,45]\n",
    "}\n",
    "\n",
    "df1 = pd.DataFrame(data1)\n",
    "df2 = pd.DataFrame(data2)\n",
    "\n",
    "with pd.ExcelWriter('out/pandas_test-1.xlsx') as writer:\n",
    "    df1.to_excel(writer, sheet_name='fruit', index_label=\"序号\")\n",
    "    df2.to_excel(writer, sheet_name='health', index_label=\"天数\")"
   ]
  },
  {
   "cell_type": "code",
   "execution_count": null,
   "id": "15a0018a",
   "metadata": {},
   "outputs": [],
   "source": []
  }
 ],
 "metadata": {
  "kernelspec": {
   "display_name": "Python 3 (ipykernel)",
   "language": "python",
   "name": "python3"
  },
  "language_info": {
   "codemirror_mode": {
    "name": "ipython",
    "version": 3
   },
   "file_extension": ".py",
   "mimetype": "text/x-python",
   "name": "python",
   "nbconvert_exporter": "python",
   "pygments_lexer": "ipython3",
   "version": "3.9.7"
  }
 },
 "nbformat": 4,
 "nbformat_minor": 5
}
