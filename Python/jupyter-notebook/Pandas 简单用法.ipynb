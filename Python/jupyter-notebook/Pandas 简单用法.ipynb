{
 "cells": [
  {
   "cell_type": "markdown",
   "id": "8ea46dfc",
   "metadata": {},
   "source": [
    "# Test: Pandas 的用法\n",
    "\n",
    "引入模块"
   ]
  },
  {
   "cell_type": "code",
   "execution_count": 9,
   "id": "b289d07a",
   "metadata": {},
   "outputs": [],
   "source": [
    "import pandas as pd"
   ]
  },
  {
   "cell_type": "markdown",
   "id": "879a6c75",
   "metadata": {},
   "source": [
    "基本示例"
   ]
  },
  {
   "cell_type": "code",
   "execution_count": 10,
   "id": "33c696f5",
   "metadata": {},
   "outputs": [
    {
     "name": "stdout",
     "output_type": "stream",
     "text": [
      "1    Google\n",
      "3      Wiki\n",
      "dtype: object\n"
     ]
    }
   ],
   "source": [
    "sites = {1: \"Google\", 2: \"Runoob\", 3: \"Wiki\", 4: \"Taobao\"}\n",
    "# 创建一个 Series，索引为 1 和 2\n",
    "myvar = pd.Series(sites, index = [1, 3])\n",
    "print(myvar)"
   ]
  },
  {
   "cell_type": "markdown",
   "id": "72e011a6",
   "metadata": {},
   "source": [
    "## DataFrame\n",
    "Pandas DataFrame 是一个**二维**的数组结构，类似二维数组。\n",
    "### 构造方法\n",
    "```python\n",
    "pandas.DataFrame(data, index, columns, dtype, copy)\n",
    "```\n",
    "### 参数说明\n",
    "- **data:** 一组数据\n",
    "- **index：** 索引值，或者可以称为行标签。\n",
    "- **columns：** 列标签，默认为 RangeIndex (0, 1, 2, …, n) 。\n",
    "- **dtype：** 数据类型。\n",
    "- **copy：** 拷贝数据，默认为 False。"
   ]
  },
  {
   "cell_type": "code",
   "execution_count": 18,
   "id": "63f3998e",
   "metadata": {},
   "outputs": [
    {
     "name": "stdout",
     "output_type": "stream",
     "text": [
      "     Site Age\n",
      "0  Google  10\n",
      "1  Runoob  12\n",
      "2    Wiki  13\n"
     ]
    }
   ],
   "source": [
    "data = [['Google',10],['Runoob',12],['Wiki',13]]\n",
    "\n",
    "# dtype 参数用于指定 DataFrame 中所有列的数据类型。\n",
    "# 这里设置为 'object'，表示所有数据都按通用 Python 对象类型存储（通常用于字符串或混合类型）。\n",
    "# 如果不指定 dtype，pandas 会自动推断每列的类型（如 int、float、str 等）。\n",
    "df = pd.DataFrame(data, columns=['Site', 'Age'], dtype='object')\n",
    "\n",
    "print(df)"
   ]
  },
  {
   "cell_type": "markdown",
   "id": "b94e9316",
   "metadata": {},
   "source": [
    "自动推导数组元素类型。"
   ]
  },
  {
   "cell_type": "code",
   "execution_count": 19,
   "id": "64786b86",
   "metadata": {},
   "outputs": [
    {
     "name": "stdout",
     "output_type": "stream",
     "text": [
      "    a     b     c\n",
      "0   1   2.0   NaN\n",
      "1   5  10.0  20.0\n",
      "2  10   NaN  30.0\n"
     ]
    }
   ],
   "source": [
    "data = [{'a': 1, 'b': 2},{'a': 5, 'b': 10, 'c': 20}, {'a': 10, 'c': 30}]\n",
    "\n",
    "df = pd.DataFrame(data)\n",
    "\n",
    "print (df)"
   ]
  },
  {
   "cell_type": "markdown",
   "id": "a54fac88",
   "metadata": {},
   "source": [
    "Pandas 可以使用 `loc` 属性返回指定行的数据，如果没有设置索引，第一行索引为 0，第二行索引为 1，以此类推："
   ]
  },
  {
   "cell_type": "code",
   "execution_count": 20,
   "id": "8125f4a5",
   "metadata": {},
   "outputs": [
    {
     "name": "stdout",
     "output_type": "stream",
     "text": [
      "   calories  duration\n",
      "0       420        50\n",
      "1       380        40\n",
      "2       390        45\n",
      "calories    420\n",
      "duration     50\n",
      "Name: 0, dtype: int64\n",
      "calories    380\n",
      "duration     40\n",
      "Name: 1, dtype: int64\n"
     ]
    }
   ],
   "source": [
    "data = {\n",
    "  \"calories\": [420, 380, 390],\n",
    "  \"duration\": [50, 40, 45]\n",
    "}\n",
    "\n",
    "# 数据载入到 DataFrame 对象\n",
    "df = pd.DataFrame(data)\n",
    "print(df)\n",
    "\n",
    "# 返回第一行\n",
    "print(df.loc[0])\n",
    "# 返回第二行\n",
    "print(df.loc[1])"
   ]
  },
  {
   "cell_type": "markdown",
   "id": "3ecc1fbb",
   "metadata": {},
   "source": [
    "**注意：** 返回结果其实就是一个 Pandas Series 数据。\n",
    "\n",
    "也可以返回多行数据，使用 `[[ ... ]]` 格式，`...` 为各行的索引，以逗号隔开："
   ]
  },
  {
   "cell_type": "code",
   "execution_count": 14,
   "id": "2291f260",
   "metadata": {},
   "outputs": [
    {
     "name": "stdout",
     "output_type": "stream",
     "text": [
      "   calories  duration\n",
      "0       420        50\n",
      "1       380        40\n"
     ]
    }
   ],
   "source": [
    "import pandas as pd\n",
    "\n",
    "data = {\n",
    "  \"calories\": [420, 380, 390],\n",
    "  \"duration\": [50, 40, 45]\n",
    "}\n",
    "\n",
    "# 数据载入到 DataFrame 对象\n",
    "df = pd.DataFrame(data)\n",
    "\n",
    "# 返回第一行和第二行\n",
    "print(df.loc[[0, 1]])"
   ]
  },
  {
   "cell_type": "markdown",
   "id": "cfeeac11",
   "metadata": {},
   "source": [
    "**注意：** 返回结果其实就是一个 Pandas DataFrame 数据。\n",
    "我们可以指定索引值，如下实例："
   ]
  },
  {
   "cell_type": "code",
   "execution_count": 15,
   "id": "14d2c72b",
   "metadata": {},
   "outputs": [
    {
     "name": "stdout",
     "output_type": "stream",
     "text": [
      "      calories  duration\n",
      "day1       420        50\n",
      "day2       380        40\n",
      "day3       390        45\n",
      "------ 输出第二行 ------\n",
      "calories    380\n",
      "duration     40\n",
      "Name: day2, dtype: int64\n"
     ]
    }
   ],
   "source": [
    "import pandas as pd\n",
    "\n",
    "data = {\n",
    "    \"calories\": [420, 380, 390],\n",
    "    \"duration\": [50, 40,45]\n",
    "}\n",
    "\n",
    "index = [\"day1\", \"day2\", \"day3\"]\n",
    "\n",
    "df = pd.DataFrame(data, index)\n",
    "\n",
    "print(df)\n",
    "print('------ 输出第二行 ------')\n",
    "print(df.loc[\"day2\"])"
   ]
  },
  {
   "cell_type": "markdown",
   "id": "6b337ba5",
   "metadata": {},
   "source": [
    "DataFrame 还可以添加一列数据。"
   ]
  },
  {
   "cell_type": "code",
   "execution_count": 16,
   "id": "13466cee",
   "metadata": {},
   "outputs": [
    {
     "name": "stdout",
     "output_type": "stream",
     "text": [
      "   mango  apple  pear  banana  sum\n",
      "0    420     50     1      23  494\n",
      "1    380     40     2      45  467\n",
      "2    390     45     3      56  494\n"
     ]
    }
   ],
   "source": [
    "import pandas as pd\n",
    "\n",
    "data = {\n",
    "  \"mango\": [420, 380, 390],\n",
    "  \"apple\": [50, 40, 45],\n",
    "  \"pear\": [1, 2, 3],\n",
    "  \"banana\": [23, 45,56]\n",
    "}\n",
    "\n",
    "df = pd.DataFrame(data)\n",
    "\n",
    "df['sum']=df['mango']+df['apple']+df['pear']+df['banana']\n",
    "\n",
    "print(df)"
   ]
  },
  {
   "cell_type": "markdown",
   "id": "60a234bb",
   "metadata": {},
   "source": [
    "### to_excel\n",
    "将 DataFrame 写入到 excel 文件中。\n",
    "```python\n",
    "to_excel(excel_writer，sheet_name=‘sheet1’，na_rep=’ ’ ，float_format=None，columns=None，header=True，index=True，index_label=None，startrow=0，startcol=0，engine=None，merge_cells=True，encoding=None，inf_rep=‘inf’，verbose=True，freeze_panes=None)\n",
    "```"
   ]
  },
  {
   "cell_type": "code",
   "execution_count": 17,
   "id": "8aa13bb9",
   "metadata": {},
   "outputs": [
    {
     "ename": "ModuleNotFoundError",
     "evalue": "No module named 'openpyxl'",
     "output_type": "error",
     "traceback": [
      "\u001b[31m---------------------------------------------------------------------------\u001b[39m",
      "\u001b[31mModuleNotFoundError\u001b[39m                       Traceback (most recent call last)",
      "\u001b[36mCell\u001b[39m\u001b[36m \u001b[39m\u001b[32mIn[17]\u001b[39m\u001b[32m, line 18\u001b[39m\n\u001b[32m     15\u001b[39m df1 = pd.DataFrame(data1)\n\u001b[32m     16\u001b[39m df2 = pd.DataFrame(data2)\n\u001b[32m---> \u001b[39m\u001b[32m18\u001b[39m \u001b[38;5;28;01mwith\u001b[39;00m \u001b[43mpd\u001b[49m\u001b[43m.\u001b[49m\u001b[43mExcelWriter\u001b[49m\u001b[43m(\u001b[49m\u001b[33;43m'\u001b[39;49m\u001b[33;43mout/pandas_test-1.xlsx\u001b[39;49m\u001b[33;43m'\u001b[39;49m\u001b[43m)\u001b[49m \u001b[38;5;28;01mas\u001b[39;00m writer:\n\u001b[32m     19\u001b[39m     df1.to_excel(writer, sheet_name=\u001b[33m'\u001b[39m\u001b[33mfruit\u001b[39m\u001b[33m'\u001b[39m, index_label=\u001b[33m\"\u001b[39m\u001b[33m序号\u001b[39m\u001b[33m\"\u001b[39m)\n\u001b[32m     20\u001b[39m     df2.to_excel(writer, sheet_name=\u001b[33m'\u001b[39m\u001b[33mhealth\u001b[39m\u001b[33m'\u001b[39m, index_label=\u001b[33m\"\u001b[39m\u001b[33m天数\u001b[39m\u001b[33m\"\u001b[39m)\n",
      "\u001b[36mFile \u001b[39m\u001b[32m~/gitlearn/Python/jupyter-notebook/.venv/lib/python3.12/site-packages/pandas/io/excel/_openpyxl.py:57\u001b[39m, in \u001b[36mOpenpyxlWriter.__init__\u001b[39m\u001b[34m(self, path, engine, date_format, datetime_format, mode, storage_options, if_sheet_exists, engine_kwargs, **kwargs)\u001b[39m\n\u001b[32m     44\u001b[39m \u001b[38;5;28;01mdef\u001b[39;00m\u001b[38;5;250m \u001b[39m\u001b[34m__init__\u001b[39m(\n\u001b[32m     45\u001b[39m     \u001b[38;5;28mself\u001b[39m,\n\u001b[32m     46\u001b[39m     path: FilePath | WriteExcelBuffer | ExcelWriter,\n\u001b[32m   (...)\u001b[39m\u001b[32m     55\u001b[39m ) -> \u001b[38;5;28;01mNone\u001b[39;00m:\n\u001b[32m     56\u001b[39m     \u001b[38;5;66;03m# Use the openpyxl module as the Excel writer.\u001b[39;00m\n\u001b[32m---> \u001b[39m\u001b[32m57\u001b[39m     \u001b[38;5;28;01mfrom\u001b[39;00m\u001b[38;5;250m \u001b[39m\u001b[34;01mopenpyxl\u001b[39;00m\u001b[34;01m.\u001b[39;00m\u001b[34;01mworkbook\u001b[39;00m\u001b[38;5;250m \u001b[39m\u001b[38;5;28;01mimport\u001b[39;00m Workbook\n\u001b[32m     59\u001b[39m     engine_kwargs = combine_kwargs(engine_kwargs, kwargs)\n\u001b[32m     61\u001b[39m     \u001b[38;5;28msuper\u001b[39m().\u001b[34m__init__\u001b[39m(\n\u001b[32m     62\u001b[39m         path,\n\u001b[32m     63\u001b[39m         mode=mode,\n\u001b[32m   (...)\u001b[39m\u001b[32m     66\u001b[39m         engine_kwargs=engine_kwargs,\n\u001b[32m     67\u001b[39m     )\n",
      "\u001b[31mModuleNotFoundError\u001b[39m: No module named 'openpyxl'"
     ]
    }
   ],
   "source": [
    "import pandas as pd\n",
    "\n",
    "data1 = {\n",
    "  \"mango\": [420, 380, 390],\n",
    "  \"apple\": [50, 40, 45],\n",
    "  \"pear\": [1, 2, 3],\n",
    "  \"banana\": [23, 45,56]\n",
    "}\n",
    "\n",
    "data2 = {\n",
    "    \"calories\": [420, 380, 390],\n",
    "    \"duration\": [50, 40,45]\n",
    "}\n",
    "\n",
    "df1 = pd.DataFrame(data1)\n",
    "df2 = pd.DataFrame(data2)\n",
    "\n",
    "with pd.ExcelWriter('out/pandas_test-1.xlsx') as writer:\n",
    "    df1.to_excel(writer, sheet_name='fruit', index_label=\"序号\")\n",
    "    df2.to_excel(writer, sheet_name='health', index_label=\"天数\")"
   ]
  },
  {
   "cell_type": "code",
   "execution_count": null,
   "id": "15a0018a",
   "metadata": {},
   "outputs": [],
   "source": []
  }
 ],
 "metadata": {
  "kernelspec": {
   "display_name": ".venv",
   "language": "python",
   "name": "python3"
  },
  "language_info": {
   "codemirror_mode": {
    "name": "ipython",
    "version": 3
   },
   "file_extension": ".py",
   "mimetype": "text/x-python",
   "name": "python",
   "nbconvert_exporter": "python",
   "pygments_lexer": "ipython3",
   "version": "3.12.3"
  }
 },
 "nbformat": 4,
 "nbformat_minor": 5
}
