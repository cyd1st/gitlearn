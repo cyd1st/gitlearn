{
 "cells": [
  {
   "cell_type": "markdown",
   "id": "1f8642d1",
   "metadata": {},
   "source": [
    "# 正则： re 模块的使用"
   ]
  },
  {
   "cell_type": "markdown",
   "id": "c82674f1-b3ea-476b-817f-2abfe22e96e5",
   "metadata": {},
   "source": [
    "## re.match"
   ]
  },
  {
   "cell_type": "markdown",
   "id": "e273f36e-e30d-47f0-aaaa-99b11b2b135b",
   "metadata": {},
   "source": [
    "函数原型：re.match(pattern, string, flags=0)\n",
    "\n",
    "如果 string **开始**的0或者多个字符匹配到了正则表达式样式，就返回一个相应的 匹配对象 。 如果没有匹配，就返回 None ；注意它跟零长度匹配是不同的。\n",
    "注意即便是 MULTILINE 多行模式， re.match() 也只匹配字符串的开始位置，而不匹配每行开始。\n",
    "如果你想定位 string 的任何位置，使用 search() 来替代（也可参考 search() vs. match() ）\n",
    "\n"
   ]
  },
  {
   "cell_type": "markdown",
   "id": "f5f03415-df2f-4f66-ba62-7c1916e06a53",
   "metadata": {},
   "source": [
    "## 匹配对象\n",
    "[匹配对象-官方文档](https://docs.python.org/zh-cn/3.9/library/re.html?highlight=re#match-objects)\n",
    "\n"
   ]
  },
  {
   "cell_type": "markdown",
   "id": "5ebdddf0",
   "metadata": {},
   "source": [
    "## group 是什么？"
   ]
  },
  {
   "cell_type": "code",
   "execution_count": 1,
   "id": "a3768980",
   "metadata": {},
   "outputs": [
    {
     "name": "stdout",
     "output_type": "stream",
     "text": [
      "(0, 3)\n",
      "None\n"
     ]
    }
   ],
   "source": [
    "import re\n",
    "print(re.match('www', 'www.runoob.com').span())  # 在起始位置匹配\n",
    "print(re.match('com', 'www.runoob.com'))         # 不在起始位置匹配"
   ]
  },
  {
   "cell_type": "code",
   "execution_count": 6,
   "id": "a911354b",
   "metadata": {},
   "outputs": [
    {
     "name": "stdout",
     "output_type": "stream",
     "text": [
      "matchObj.group() :  Cats are smarter than dogs\n",
      "matchObj.group(1) :  Cats\n",
      "matchObj.group(2) :  smarter\n"
     ]
    }
   ],
   "source": [
    "line = \"Cats are smarter than dogs\"\n",
    "# .* 表示任意匹配除换行符（\\n、\\r）之外的任何单个或多个字符\n",
    "# (.*?) 表示\"非贪婪\"模式，只保存第一个匹配到的子串\n",
    "matchObj = re.match( r'(.*) are (.*?) .*', line, re.M|re.I)\n",
    " \n",
    "if matchObj:\n",
    "   print (\"matchObj.group() : \", matchObj.group())\n",
    "   print (\"matchObj.group(1) : \", matchObj.group(1))\n",
    "   print (\"matchObj.group(2) : \", matchObj.group(2))\n",
    "else:\n",
    "   print (\"No match!!\")"
   ]
  },
  {
   "cell_type": "code",
   "execution_count": 8,
   "id": "bf059e23-969f-487e-955e-cd4f74391228",
   "metadata": {},
   "outputs": [
    {
     "name": "stdout",
     "output_type": "stream",
     "text": [
      "bbb\n"
     ]
    }
   ],
   "source": [
    "import re\n",
    "line = \"aaa/ccc/bbb/fff.www\"\n",
    "m = re.match(r'(.*)ccc/(\\w+)/', line)\n",
    "print(m.group(2))"
   ]
  },
  {
   "cell_type": "markdown",
   "id": "8a58fece",
   "metadata": {},
   "source": [
    "## re.match与re.search的区别\n",
    "re.match 只匹配字符串的开始，如果字符串开始不符合正则表达式，则匹配失败，函数返回 None，而 re.search 匹配整个字符串，直到找到一个匹配。  \n",
    "re.match 相当于默认在匹配模式中添加 `^`，如果在匹配模式前后分别添加 `^`,`$`，则表示完全匹配整个字符串。\n",
    "> 顾名思义，一个匹配，一个搜索\n",
    "## re.sub\n",
    "用于替换字符串中的匹配项。\n",
    "```python\n",
    "re.sub(pattern, repl, string, count=0, flags=0)\n",
    "```\n",
    "**使用实例：** 改变日期的格式，如中国格式 2017-11-27 改为美国格式 11/27/2017"
   ]
  },
  {
   "cell_type": "code",
   "execution_count": 14,
   "id": "5bb4244e",
   "metadata": {},
   "outputs": [
    {
     "name": "stdout",
     "output_type": "stream",
     "text": [
      "10/19/2022\n"
     ]
    }
   ],
   "source": [
    "s = '2022-10-19'\n",
    "ret = re.sub(r'(\\d{4})-(\\d{2})-(\\d{2})', r'\\2/\\3/\\1', s)\n",
    "print(ret)"
   ]
  },
  {
   "cell_type": "markdown",
   "id": "ae89c9e6",
   "metadata": {},
   "source": [
    "### flag 参数\n",
    "- re.I 忽略大小写\n",
    "- re.L 表示特殊字符集 \\w, \\W, \\b, \\B, \\s, \\S 依赖于当前环境\n",
    "- re.M 多行模式\n",
    "- re.S 即为' . '并且包括换行符在内的任意字符（' . '不包括换行符）\n",
    "- re.U 表示特殊字符集 \\w, \\W, \\b, \\B, \\d, \\D, \\s, \\S 依赖于 Unicode 字符属性数据库\n",
    "- re.X 为了增加可读性，忽略空格和' # '后面的注释"
   ]
  },
  {
   "cell_type": "markdown",
   "id": "c32c981f",
   "metadata": {},
   "source": [
    "## re.compile"
   ]
  },
  {
   "cell_type": "code",
   "execution_count": 11,
   "id": "4ead21b7",
   "metadata": {},
   "outputs": [
    {
     "name": "stdout",
     "output_type": "stream",
     "text": [
      "None\n",
      "<re.Match object; span=(3, 4), match='2'>\n"
     ]
    },
    {
     "data": {
      "text/plain": [
       "(3, 4)"
      ]
     },
     "execution_count": 11,
     "metadata": {},
     "output_type": "execute_result"
    }
   ],
   "source": [
    "pattern = re.compile(r'\\d+')\n",
    "m = pattern.match('one2three4five')\n",
    "print(m)\n",
    "m = pattern.match('one2three4five', 3, 10)\n",
    "print(m)\n",
    "m.group(0)\n",
    "m.start(0)\n",
    "m.end(0)\n",
    "m.span(0)"
   ]
  },
  {
   "cell_type": "markdown",
   "id": "f3d0ed56",
   "metadata": {},
   "source": [
    "在上面，当匹配成功时返回一个 Match 对象，其中：\n",
    "\n",
    "- `group([group1, …])` 方法用于获得一个或多个分组匹配的字符串，当要获得整个匹配的子串时，可直接使用 group() 或 group(0)；\n",
    "- `start([group])` 方法用于获取分组匹配的子串在整个字符串中的起始位置（子串第一个字符的索引），参数默认值为 0；\n",
    "- `end([group])` 方法用于获取分组匹配的子串在整个字符串中的结束位置（子串最后一个字符的索引**+1**），参数默认值为 0；\n",
    "- `span([group])` 方法返回 (start(group), end(group))。"
   ]
  },
  {
   "cell_type": "code",
   "execution_count": 25,
   "id": "fcaf8975",
   "metadata": {},
   "outputs": [
    {
     "name": "stdout",
     "output_type": "stream",
     "text": [
      "<re.Match object; span=(0, 11), match='Hello World'>\n"
     ]
    },
    {
     "data": {
      "text/plain": [
       "6"
      ]
     },
     "execution_count": 25,
     "metadata": {},
     "output_type": "execute_result"
    }
   ],
   "source": [
    "pattern = re.compile(r'([a-z]+) ([a-z]+)', re.I)\n",
    "m = pattern.match('Hello World Wide Web')\n",
    "print(m)\n",
    "# ------- #\n",
    "m.group()\n",
    "m.span()\n",
    "\n",
    "m.group(1)\n",
    "m.span(1)\n",
    "\n",
    "m.group(2)\n",
    "m.span(2)\n",
    "\n",
    "m.groups()\n",
    "\n",
    "# m.group(3)\n",
    "\n",
    "m.start()\n",
    "m.start(1)\n",
    "m.start(2)\n",
    "# m.start(3)"
   ]
  },
  {
   "cell_type": "markdown",
   "id": "f08b6850",
   "metadata": {},
   "source": [
    "## re.findall\n",
    "> match 和 search 是匹配一次 findall 匹配所有。\n",
    "\n",
    "在字符串中找到正则表达式所匹配的所有子串，并返回一个列表，如果有多个匹配模式，则返回元组列表，如果没有找到匹配的，则返回空列表。\n",
    "```python\n",
    "re.findall(pattern, string, flags=0)\n",
    "# 或\n",
    "pattern.findall(string[, pos[, endpos]])\n",
    "```"
   ]
  },
  {
   "cell_type": "code",
   "execution_count": 2,
   "id": "7d61f502",
   "metadata": {},
   "outputs": [
    {
     "name": "stdout",
     "output_type": "stream",
     "text": [
      "['123', '456']\n",
      "['00', '1']\n"
     ]
    }
   ],
   "source": [
    "import re\n",
    "\n",
    "ret = re.findall(r'\\d+', 'runnoob 123 google 456')\n",
    "print(ret)\n",
    "\n",
    "pattern = re.compile(r'\\d+')\n",
    "ret = pattern.findall('runn00b123google456', 0, 8)\n",
    "print(ret)"
   ]
  },
  {
   "cell_type": "markdown",
   "id": "9d17d7fb",
   "metadata": {},
   "source": [
    "> 注意，范围一般都是左闭右开的。\n",
    "\n",
    "re.findall 的多个匹配模式，返回元组列表："
   ]
  },
  {
   "cell_type": "code",
   "execution_count": 3,
   "id": "a3358e68",
   "metadata": {},
   "outputs": [
    {
     "name": "stdout",
     "output_type": "stream",
     "text": [
      "[('width', '20'), ('height', '10')]\n"
     ]
    }
   ],
   "source": [
    "ret = re.findall(r'(\\w+)=(\\d+)', 'set width=20 and height=10')\n",
    "print(ret)"
   ]
  },
  {
   "cell_type": "markdown",
   "id": "d11f0210",
   "metadata": {},
   "source": [
    "## re.finditer\n",
    "和 findall 类似，在字符串中找到正则表达式所匹配的所有子串，并把它们作为一个迭代器返回。"
   ]
  },
  {
   "cell_type": "code",
   "execution_count": 4,
   "id": "0bba503e",
   "metadata": {},
   "outputs": [
    {
     "name": "stdout",
     "output_type": "stream",
     "text": [
      "12\n",
      "34\n",
      "56\n",
      "7\n"
     ]
    }
   ],
   "source": [
    "it = re.finditer(r'\\d+', '12a34s56f7')\n",
    "for match in it:\n",
    "    print(match.group())"
   ]
  },
  {
   "cell_type": "markdown",
   "id": "b04dffea",
   "metadata": {},
   "source": [
    "## re.split\n",
    "使用匹配的字符串作为分隔符，来分隔字符串。"
   ]
  },
  {
   "cell_type": "code",
   "execution_count": 12,
   "id": "9d5a0fef",
   "metadata": {},
   "outputs": [
    {
     "name": "stdout",
     "output_type": "stream",
     "text": [
      "['Hello', 'World', '']\n",
      "['Hello', ', ', 'World', '!', '']\n",
      "['Hello', 'World!']\n",
      "['Hello, World!']\n"
     ]
    }
   ],
   "source": [
    "ret = re.split('\\W+', \"Hello, World!\")\n",
    "print(ret)\n",
    "ret = re.split('(\\W+)', \"Hello, World!\") # ???\n",
    "print(ret)\n",
    "ret = re.split('\\W+', \"Hello, World!\", 1)\n",
    "print(ret)\n",
    "ret = re.split('a.*', \"Hello, World!\") # 对于一个找不到匹配的字符串而言，split 不会对其作出分割\n",
    "print(ret)"
   ]
  },
  {
   "cell_type": "code",
   "execution_count": null,
   "id": "d7df3e40",
   "metadata": {},
   "outputs": [],
   "source": []
  }
 ],
 "metadata": {
  "kernelspec": {
   "display_name": "Python 3 (ipykernel)",
   "language": "python",
   "name": "python3"
  },
  "language_info": {
   "codemirror_mode": {
    "name": "ipython",
    "version": 3
   },
   "file_extension": ".py",
   "mimetype": "text/x-python",
   "name": "python",
   "nbconvert_exporter": "python",
   "pygments_lexer": "ipython3",
   "version": "3.9.7"
  },
  "vscode": {
   "interpreter": {
    "hash": "498356ecd94b019710f22dc7fc4015f2c22af98c0569791cd723d92301198764"
   }
  }
 },
 "nbformat": 4,
 "nbformat_minor": 5
}
