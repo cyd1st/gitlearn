{
 "cells": [
  {
   "cell_type": "markdown",
   "id": "9da260bc",
   "metadata": {},
   "source": [
    "# 类：多态和继承"
   ]
  },
  {
   "cell_type": "code",
   "execution_count": 8,
   "id": "b23c251d",
   "metadata": {},
   "outputs": [
    {
     "name": "stdout",
     "output_type": "stream",
     "text": [
      "Dog is barking...\n",
      "Animal is running...\n",
      "Cat is mewing...\n",
      "Animal is running...\n"
     ]
    }
   ],
   "source": [
    "class Animal(object): # 基类，父类或超类\n",
    "    def sound(self):\n",
    "        print('Animal is making a sound...')\n",
    "    def run(self):\n",
    "        print('Animal is running...')\n",
    "        \n",
    "class Dog(Animal): # 子类\n",
    "    def sound(self):\n",
    "        print('Dog is barking...')\n",
    "    def eat(self):\n",
    "        print('Eating meat...')\n",
    "\n",
    "class Cat(Animal):\n",
    "    def sound(self):\n",
    "        print('Cat is mewing...')\n",
    "\n",
    "\n",
    "dog = Dog()\n",
    "dog.sound()\n",
    "dog.run()\n",
    "\n",
    "cat = Cat()\n",
    "cat.sound()\n",
    "cat.run() "
   ]
  },
  {
   "cell_type": "markdown",
   "id": "61eb2c27",
   "metadata": {},
   "source": [
    "类的继承带来了。如下，一个变量可以是多个类型。"
   ]
  },
  {
   "cell_type": "code",
   "execution_count": 9,
   "id": "1ebf1e0a",
   "metadata": {},
   "outputs": [
    {
     "data": {
      "text/plain": [
       "True"
      ]
     },
     "execution_count": 9,
     "metadata": {},
     "output_type": "execute_result"
    }
   ],
   "source": [
    "isinstance(dog, Animal)\n",
    "isinstance(dog, Dog)"
   ]
  },
  {
   "cell_type": "markdown",
   "id": "6eb0469c",
   "metadata": {},
   "source": [
    "这意味着以某个基类为入参的函数，只要增加子类就可以运行新的功能，而不需要修改函数本身。"
   ]
  },
  {
   "cell_type": "code",
   "execution_count": 11,
   "id": "e37bee1e",
   "metadata": {},
   "outputs": [
    {
     "name": "stdout",
     "output_type": "stream",
     "text": [
      "Animal is making a sound...\n",
      "Animal is making a sound...\n",
      "Dog is barking...\n",
      "Dog is barking...\n",
      "Cat is mewing...\n",
      "Cat is mewing...\n"
     ]
    }
   ],
   "source": [
    "def sound_twice(animal:Animal):\n",
    "    animal.sound()\n",
    "    animal.sound()\n",
    "\n",
    "sound_twice(Animal())\n",
    "sound_twice(Dog())\n",
    "sound_twice(Cat())"
   ]
  },
  {
   "cell_type": "markdown",
   "id": "b46a95b1",
   "metadata": {},
   "source": [
    "### isinstance 还可以判断是否为某些类型的一种"
   ]
  },
  {
   "cell_type": "code",
   "execution_count": 16,
   "id": "6f6ad3a7",
   "metadata": {},
   "outputs": [
    {
     "data": {
      "text/plain": [
       "True"
      ]
     },
     "execution_count": 16,
     "metadata": {},
     "output_type": "execute_result"
    }
   ],
   "source": [
    "isinstance([1,2,3], (list, tuple))\n",
    "isinstance((1,2,3), (list, tuple))"
   ]
  },
  {
   "cell_type": "code",
   "execution_count": 17,
   "id": "a0580ca5",
   "metadata": {},
   "outputs": [
    {
     "data": {
      "text/plain": [
       "['__class__',\n",
       " '__delattr__',\n",
       " '__dict__',\n",
       " '__dir__',\n",
       " '__doc__',\n",
       " '__eq__',\n",
       " '__format__',\n",
       " '__ge__',\n",
       " '__getattribute__',\n",
       " '__gt__',\n",
       " '__hash__',\n",
       " '__init__',\n",
       " '__init_subclass__',\n",
       " '__le__',\n",
       " '__lt__',\n",
       " '__module__',\n",
       " '__ne__',\n",
       " '__new__',\n",
       " '__reduce__',\n",
       " '__reduce_ex__',\n",
       " '__repr__',\n",
       " '__setattr__',\n",
       " '__sizeof__',\n",
       " '__str__',\n",
       " '__subclasshook__',\n",
       " '__weakref__',\n",
       " 'eat',\n",
       " 'run',\n",
       " 'sound']"
      ]
     },
     "execution_count": 17,
     "metadata": {},
     "output_type": "execute_result"
    }
   ],
   "source": [
    "dir(dog)"
   ]
  },
  {
   "cell_type": "code",
   "execution_count": null,
   "id": "05717ec0",
   "metadata": {},
   "outputs": [],
   "source": []
  }
 ],
 "metadata": {
  "kernelspec": {
   "display_name": "Python 3 (ipykernel)",
   "language": "python",
   "name": "python3"
  },
  "language_info": {
   "codemirror_mode": {
    "name": "ipython",
    "version": 3
   },
   "file_extension": ".py",
   "mimetype": "text/x-python",
   "name": "python",
   "nbconvert_exporter": "python",
   "pygments_lexer": "ipython3",
   "version": "3.9.7"
  }
 },
 "nbformat": 4,
 "nbformat_minor": 5
}
