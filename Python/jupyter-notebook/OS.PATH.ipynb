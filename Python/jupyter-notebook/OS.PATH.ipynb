{
 "cells": [
  {
   "cell_type": "markdown",
   "id": "81192631",
   "metadata": {},
   "source": [
    "# os.path 用法"
   ]
  },
  {
   "cell_type": "code",
   "execution_count": 4,
   "id": "9d53ddb3",
   "metadata": {},
   "outputs": [
    {
     "name": "stdout",
     "output_type": "stream",
     "text": [
      "C:\\Users\\PenghaoChang\\Desktop\\Untitled Folder\n",
      "C:\\Users\\PenghaoChang\\Desktop\\Untitled Folder\\../..\n"
     ]
    },
    {
     "data": {
      "text/plain": [
       "'C:\\\\Users\\\\PenghaoChang'"
      ]
     },
     "execution_count": 4,
     "metadata": {},
     "output_type": "execute_result"
    }
   ],
   "source": [
    "import os\n",
    "cur = os.getcwd()\n",
    "print(cur) # 绝对路径\n",
    "root = os.path.join(cur, '../..')\n",
    "print(root)\n",
    "os.path.normpath(root)"
   ]
  },
  {
   "cell_type": "markdown",
   "id": "8122843e-d500-449b-b998-a12957ac98f0",
   "metadata": {},
   "source": [
    "## os.path.join"
   ]
  },
  {
   "cell_type": "code",
   "execution_count": 2,
   "id": "9f87bae7-b28d-4119-ab9e-b00b2e0c0de4",
   "metadata": {},
   "outputs": [
    {
     "name": "stdout",
     "output_type": "stream",
     "text": [
      "abc\\def\n"
     ]
    }
   ],
   "source": [
    "import os\n",
    "path1 = 'abc'\n",
    "path2 = 'def'\n",
    "path3 = os.path.join(path1, path2)\n",
    "print(path3)"
   ]
  }
 ],
 "metadata": {
  "kernelspec": {
   "display_name": "Python 3 (ipykernel)",
   "language": "python",
   "name": "python3"
  },
  "language_info": {
   "codemirror_mode": {
    "name": "ipython",
    "version": 3
   },
   "file_extension": ".py",
   "mimetype": "text/x-python",
   "name": "python",
   "nbconvert_exporter": "python",
   "pygments_lexer": "ipython3",
   "version": "3.9.7"
  }
 },
 "nbformat": 4,
 "nbformat_minor": 5
}
