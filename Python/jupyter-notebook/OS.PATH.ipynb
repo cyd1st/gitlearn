{
 "cells": [
  {
   "cell_type": "markdown",
   "id": "81192631",
   "metadata": {},
   "source": [
    "# os.path 用法"
   ]
  },
  {
   "cell_type": "code",
   "execution_count": 4,
   "id": "9d53ddb3",
   "metadata": {},
   "outputs": [
    {
     "name": "stdout",
     "output_type": "stream",
     "text": [
      "C:\\Users\\PenghaoChang\\Desktop\\Untitled Folder\n",
      "C:\\Users\\PenghaoChang\\Desktop\\Untitled Folder\\../..\n"
     ]
    },
    {
     "data": {
      "text/plain": [
       "'C:\\\\Users\\\\PenghaoChang'"
      ]
     },
     "execution_count": 4,
     "metadata": {},
     "output_type": "execute_result"
    }
   ],
   "source": [
    "import os\n",
    "cur = os.getcwd()\n",
    "print(cur) # 绝对路径\n",
    "root = os.path.join(cur, '../..')\n",
    "print(root)\n",
    "os.path.normpath(root)"
   ]
  },
  {
   "cell_type": "code",
   "execution_count": null,
   "id": "f99eed32",
   "metadata": {},
   "outputs": [],
   "source": []
  }
 ],
 "metadata": {
  "kernelspec": {
   "display_name": "Python 3 (ipykernel)",
   "language": "python",
   "name": "python3"
  },
  "language_info": {
   "codemirror_mode": {
    "name": "ipython",
    "version": 3
   },
   "file_extension": ".py",
   "mimetype": "text/x-python",
   "name": "python",
   "nbconvert_exporter": "python",
   "pygments_lexer": "ipython3",
   "version": "3.9.7"
  }
 },
 "nbformat": 4,
 "nbformat_minor": 5
}
