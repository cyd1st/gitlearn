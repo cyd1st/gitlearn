{
 "cells": [
  {
   "cell_type": "markdown",
   "id": "81192631",
   "metadata": {},
   "source": [
    "# os.path 用法"
   ]
  },
  {
   "cell_type": "code",
   "execution_count": 4,
   "id": "9d53ddb3",
   "metadata": {},
   "outputs": [
    {
     "name": "stdout",
     "output_type": "stream",
     "text": [
      "C:\\Users\\PenghaoChang\\Desktop\\Untitled Folder\n",
      "C:\\Users\\PenghaoChang\\Desktop\\Untitled Folder\\../..\n"
     ]
    },
    {
     "data": {
      "text/plain": [
       "'C:\\\\Users\\\\PenghaoChang'"
      ]
     },
     "execution_count": 4,
     "metadata": {},
     "output_type": "execute_result"
    }
   ],
   "source": [
    "import os\n",
    "cur = os.getcwd()\n",
    "print(cur) # 绝对路径\n",
    "root = os.path.join(cur, '../..')\n",
    "print(root)\n",
    "os.path.normpath(root)"
   ]
  },
  {
   "cell_type": "markdown",
   "id": "8122843e-d500-449b-b998-a12957ac98f0",
   "metadata": {},
   "source": [
    "## os.path.join"
   ]
  },
  {
   "cell_type": "code",
   "execution_count": 2,
   "id": "9f87bae7-b28d-4119-ab9e-b00b2e0c0de4",
   "metadata": {},
   "outputs": [
    {
     "name": "stdout",
     "output_type": "stream",
     "text": [
      "abc\\def\n"
     ]
    }
   ],
   "source": [
    "import os\n",
    "path1 = 'abc'\n",
    "path2 = 'def'\n",
    "path3 = os.path.join(path1, path2)\n",
    "print(path3)"
   ]
  },
  {
   "cell_type": "markdown",
   "id": "6715a824-bf9d-4b0c-bc80-800cd5cf2a0b",
   "metadata": {},
   "source": [
    "## os.path.dirname"
   ]
  },
  {
   "cell_type": "code",
   "execution_count": 4,
   "id": "0780f460-5e5b-4dab-8366-66ff09373e84",
   "metadata": {},
   "outputs": [
    {
     "data": {
      "text/plain": [
       "'aaa/bbb/ccc'"
      ]
     },
     "execution_count": 4,
     "metadata": {},
     "output_type": "execute_result"
    }
   ],
   "source": [
    "path = 'aaa/bbb/ccc/ddd.e'\n",
    "os.path.dirname(path)"
   ]
  },
  {
   "cell_type": "markdown",
   "id": "d90a4aa3-e523-4fd0-a9cf-9b03b01fe7a9",
   "metadata": {},
   "source": [
    "**功能：** 返回文件的路径。即输入一个文件的路径，去掉文件名。\n",
    "> 返回值末尾不包括 '/' 符号。\n"
   ]
  },
  {
   "cell_type": "code",
   "execution_count": 14,
   "id": "226f2568-bc2f-4f49-a734-60595cdc3d65",
   "metadata": {},
   "outputs": [
    {
     "name": "stdout",
     "output_type": "stream",
     "text": [
      "aaa/bbb\n",
      "aaa/bbb/ccc\n",
      "\n"
     ]
    }
   ],
   "source": [
    "path2 = 'aaa/bbb/ccc'\n",
    "print (os.path.dirname(path2))\n",
    "path3 = 'aaa/bbb/ccc/'\n",
    "print (os.path.dirname(path3))\n",
    "path4 = 'aaa'\n",
    "print (os.path.dirname(path4))"
   ]
  },
  {
   "cell_type": "markdown",
   "id": "82165bc1-b5cb-438c-b016-3fee618f4e22",
   "metadata": {},
   "source": [
    "**特性：** \n",
    "1. 从如上的例子可以看出，该函数去掉的是**最后一个 `/`  以及后面的内容**。\n",
    "2. 如果没有 `/`，那么输入的所有的字符都被当作文件名去掉，返回空字符串。"
   ]
  },
  {
   "cell_type": "markdown",
   "id": "c66649ed-68c8-430f-bb0a-cc86751c0345",
   "metadata": {},
   "source": [
    "## os.path.exists"
   ]
  },
  {
   "cell_type": "code",
   "execution_count": 27,
   "id": "12358490-def0-4430-9284-4482454595f9",
   "metadata": {},
   "outputs": [
    {
     "name": "stdout",
     "output_type": "stream",
     "text": [
      "False\n",
      "False\n",
      "True\n",
      "False\n",
      "False\n",
      "--------- test file -----------\n",
      "True\n"
     ]
    }
   ],
   "source": [
    "path = os.getcwd()\n",
    "path2 = os.path.join(path, 'abcd')\n",
    "path2 = os.path.join(path, 'abcd.t')\n",
    "print(os.path.isfile(path2))\n",
    "print(os.path.isfile(path3))\n",
    "\n",
    "print(os.path.isdir(path))\n",
    "print(os.path.isdir(path2))\n",
    "print(os.path.isdir(path3))\n",
    "os.path.exists(path2)\n",
    "\n",
    "print('--------- test file -----------')\n",
    "print(os.path.exists(\"C:\\AMTAG.BIN\"))\n"
   ]
  },
  {
   "cell_type": "markdown",
   "id": "f5de7219-5be7-414e-b534-6b235a7f3579",
   "metadata": {},
   "source": [
    "**功能：** 如果**文件**或者**目录**在系统中真实存在则返回True，否则返回 False。"
   ]
  },
  {
   "cell_type": "markdown",
   "id": "81926153-8498-4240-87f5-98e276b547a0",
   "metadata": {},
   "source": [
    "## os.path.relpath"
   ]
  },
  {
   "cell_type": "code",
   "execution_count": 9,
   "id": "2db24820-c1eb-42ae-aa5d-2fad2ee74335",
   "metadata": {},
   "outputs": [
    {
     "name": "stdout",
     "output_type": "stream",
     "text": [
      "a\\b\\c\\d\n"
     ]
    }
   ],
   "source": [
    "# os.path.relpath(path[, start])\n",
    "import os\n",
    "p = r'E:\\Code\\gitlearn\\Python\\jupyter-notebook\\a\\b\\c\\d'\n",
    "print(os.path.relpath(p))"
   ]
  },
  {
   "cell_type": "markdown",
   "id": "ba923f03-bbf4-4c63-ae65-595042b7d7ab",
   "metadata": {},
   "source": [
    "**功能：** 获取 path 的相对 start 的路径。start 默认为当前工作目录。  \n",
    "**特性：** 在 windows 中，如果两个路径不在同一个驱动器时报错 ValueError。"
   ]
  }
 ],
 "metadata": {
  "kernelspec": {
   "display_name": "Python 3 (ipykernel)",
   "language": "python",
   "name": "python3"
  },
  "language_info": {
   "codemirror_mode": {
    "name": "ipython",
    "version": 3
   },
   "file_extension": ".py",
   "mimetype": "text/x-python",
   "name": "python",
   "nbconvert_exporter": "python",
   "pygments_lexer": "ipython3",
   "version": "3.9.7"
  }
 },
 "nbformat": 4,
 "nbformat_minor": 5
}
