{
 "cells": [
  {
   "cell_type": "markdown",
   "id": "000459db",
   "metadata": {},
   "source": [
    "# dict 字典"
   ]
  },
  {
   "cell_type": "markdown",
   "id": "3723f33e",
   "metadata": {},
   "source": [
    "形如：\n",
    "```python\n",
    "d = {\n",
    "    'one': 1,\n",
    "    'two': 2,\n",
    "    'three': 3\n",
    "}\n",
    "```"
   ]
  },
  {
   "cell_type": "markdown",
   "id": "d9a1fea7",
   "metadata": {},
   "source": [
    "## 创建字典\n",
    "如何创建上面的那个字典？"
   ]
  },
  {
   "cell_type": "code",
   "execution_count": 6,
   "id": "0c30ffdd",
   "metadata": {},
   "outputs": [
    {
     "data": {
      "text/plain": [
       "True"
      ]
     },
     "execution_count": 6,
     "metadata": {},
     "output_type": "execute_result"
    }
   ],
   "source": [
    "a = {'one': 1, 'two': 2, 'three': 3}               # 不调用函数\n",
    "b = dict({'one': 1, 'two': 2, 'three': 3})         # 直接\n",
    "c = dict(one=1, two=2, three=3)                    # 直接\n",
    "d = dict(zip(['one', 'two', 'three'], [1, 2, 3]))  # 两个 list 合并\n",
    "e = dict([('one', 1), ('two', 2), ('three', 3)])   # 键值对 list 合并\n",
    "f = dict({'one': 1, 'three': 3}, two=2)            # dict 拼接字典和键值对\n",
    "# ------------------------ #\n",
    "a == b == c == d == e == f"
   ]
  },
  {
   "cell_type": "markdown",
   "id": "efe9023a",
   "metadata": {},
   "source": [
    "## 字典内置方法\n",
    "### dict.keys()\n",
    "返回由字典键（key）组成的一个新视图。\n",
    "> **注意：**返回值不是一个 list，需要用 list() 函数转换。"
   ]
  },
  {
   "cell_type": "code",
   "execution_count": 14,
   "id": "98c82d79",
   "metadata": {},
   "outputs": [
    {
     "data": {
      "text/plain": [
       "['one', 'two', 'three']"
      ]
     },
     "execution_count": 14,
     "metadata": {},
     "output_type": "execute_result"
    }
   ],
   "source": [
    "type(a.keys()) # dict_keys\n",
    "list(a.keys())"
   ]
  },
  {
   "cell_type": "markdown",
   "id": "9b4ccee0",
   "metadata": {},
   "source": [
    "### dict.items()\n",
    "返回由字典项 ((键, 值) 对) 组成的一个新视图。\n",
    "\n",
    "同 `dict.keys()` 返回值不是一个 list，需要用 list() 函数转换。  "
   ]
  },
  {
   "cell_type": "code",
   "execution_count": 16,
   "id": "c5970e0e",
   "metadata": {},
   "outputs": [
    {
     "data": {
      "text/plain": [
       "[('one', 1), ('two', 2), ('three', 3)]"
      ]
     },
     "execution_count": 16,
     "metadata": {},
     "output_type": "execute_result"
    }
   ],
   "source": [
    "type(a.items()) # dict_items\n",
    "list(a.items())"
   ]
  },
  {
   "cell_type": "markdown",
   "id": "be8ebbf9",
   "metadata": {},
   "source": [
    "类似于上面字典 e（键值对）创建的逆向过程。"
   ]
  },
  {
   "cell_type": "code",
   "execution_count": 17,
   "id": "3cd92590",
   "metadata": {},
   "outputs": [
    {
     "data": {
      "text/plain": [
       "True"
      ]
     },
     "execution_count": 17,
     "metadata": {},
     "output_type": "execute_result"
    }
   ],
   "source": [
    "temp = dict(list(a.items()))\n",
    "temp == a"
   ]
  }
 ],
 "metadata": {
  "kernelspec": {
   "display_name": "Python 3 (ipykernel)",
   "language": "python",
   "name": "python3"
  },
  "language_info": {
   "codemirror_mode": {
    "name": "ipython",
    "version": 3
   },
   "file_extension": ".py",
   "mimetype": "text/x-python",
   "name": "python",
   "nbconvert_exporter": "python",
   "pygments_lexer": "ipython3",
   "version": "3.9.7"
  }
 },
 "nbformat": 4,
 "nbformat_minor": 5
}
