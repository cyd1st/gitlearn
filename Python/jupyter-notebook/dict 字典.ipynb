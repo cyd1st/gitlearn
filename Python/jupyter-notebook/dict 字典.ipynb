{
 "cells": [
  {
   "cell_type": "markdown",
   "id": "000459db",
   "metadata": {},
   "source": [
    "# dict 字典"
   ]
  },
  {
   "cell_type": "markdown",
   "id": "3723f33e",
   "metadata": {},
   "source": [
    "形如：\n",
    "```python\n",
    "d = {\n",
    "    'one': {\n",
    "        \"one_one\": [\n",
    "            \"列表1-1\",\n",
    "            \"列表1-2\",\n",
    "            \"列表1-3\"\n",
    "        ]\n",
    "    },\n",
    "    'two': 2,\n",
    "    'three': 3\n",
    "}\n",
    "```"
   ]
  },
  {
   "cell_type": "markdown",
   "id": "d9a1fea7",
   "metadata": {},
   "source": [
    "## 创建字典的 6 中方法\n",
    "如何创建上面的那个字典？"
   ]
  },
  {
   "cell_type": "code",
   "execution_count": 6,
   "id": "0c30ffdd",
   "metadata": {},
   "outputs": [
    {
     "data": {
      "text/plain": [
       "True"
      ]
     },
     "execution_count": 6,
     "metadata": {},
     "output_type": "execute_result"
    }
   ],
   "source": [
    "a = {'one': 1, 'two': 2, 'three': 3}               # 不调用函数\n",
    "b = dict({'one': 1, 'two': 2, 'three': 3})         # 直接\n",
    "c = dict(one=1, two=2, three=3)                    # 直接\n",
    "d = dict(zip(['one', 'two', 'three'], [1, 2, 3]))  # 两个 list 合并\n",
    "e = dict([('one', 1), ('two', 2), ('three', 3)])   # 键值对 list 合并\n",
    "f = dict({'one': 1, 'three': 3}, two=2)            # dict 拼接字典和键值对\n",
    "# ------------------------ #\n",
    "a == b == c == d == e == f"
   ]
  },
  {
   "cell_type": "markdown",
   "id": "efe9023a",
   "metadata": {},
   "source": [
    "## 字典内置方法\n",
    "### dict.keys()\n",
    "返回由字典键（key）组成的一个新视图。\n",
    "> **注意：**返回值不是一个 list，需要用 list() 函数转换。"
   ]
  },
  {
   "cell_type": "code",
   "execution_count": 5,
   "id": "98c82d79",
   "metadata": {},
   "outputs": [
    {
     "name": "stdout",
     "output_type": "stream",
     "text": [
      "one    1\n",
      "two    2\n",
      "three    3\n",
      "four    4\n"
     ]
    }
   ],
   "source": [
    "type(a.keys()) # dict_keys\n",
    "list(a.keys())\n",
    "\n",
    "for i in a.keys():\n",
    "    print(i, \"  \", a[i])"
   ]
  },
  {
   "cell_type": "markdown",
   "id": "9b4ccee0",
   "metadata": {},
   "source": [
    "### dict.items()\n",
    "返回由字典项 ((键, 值) 对) 组成的一个新视图。\n",
    "\n",
    "同 `dict.keys()` 返回值不是一个 list，需要用 list() 函数转换。  "
   ]
  },
  {
   "cell_type": "code",
   "execution_count": 31,
   "id": "c5970e0e",
   "metadata": {},
   "outputs": [
    {
     "ename": "AttributeError",
     "evalue": "'list' object has no attribute 'items'",
     "output_type": "error",
     "traceback": [
      "\u001b[1;31m---------------------------------------------------------------------------\u001b[0m",
      "\u001b[1;31mAttributeError\u001b[0m                            Traceback (most recent call last)",
      "Cell \u001b[1;32mIn [31], line 50\u001b[0m\n\u001b[0;32m      1\u001b[0m d \u001b[38;5;241m=\u001b[39m [\n\u001b[0;32m      2\u001b[0m         {\n\u001b[0;32m      3\u001b[0m             \u001b[38;5;124m'\u001b[39m\u001b[38;5;124mone\u001b[39m\u001b[38;5;124m'\u001b[39m: {\n\u001b[1;32m   (...)\u001b[0m\n\u001b[0;32m     40\u001b[0m         }\n\u001b[0;32m     41\u001b[0m ]\n\u001b[0;32m     42\u001b[0m \u001b[38;5;66;03m# print(type(d.items())) # dict_items\u001b[39;00m\n\u001b[0;32m     43\u001b[0m \n\u001b[0;32m     44\u001b[0m \u001b[38;5;66;03m# for i in list(d.items()):\u001b[39;00m\n\u001b[1;32m   (...)\u001b[0m\n\u001b[0;32m     47\u001b[0m \u001b[38;5;66;03m# for i in list(d.keys()):\u001b[39;00m\n\u001b[0;32m     48\u001b[0m \u001b[38;5;66;03m#     print(i)\u001b[39;00m\n\u001b[1;32m---> 50\u001b[0m \u001b[38;5;28;01mfor\u001b[39;00m key, value \u001b[38;5;129;01min\u001b[39;00m \u001b[43md\u001b[49m\u001b[38;5;241;43m.\u001b[39;49m\u001b[43mitems\u001b[49m():\n\u001b[0;32m     51\u001b[0m     \u001b[38;5;28mprint\u001b[39m(key, \u001b[38;5;124m\"\u001b[39m\u001b[38;5;124m----\u001b[39m\u001b[38;5;124m\"\u001b[39m, value)\n",
      "\u001b[1;31mAttributeError\u001b[0m: 'list' object has no attribute 'items'"
     ]
    }
   ],
   "source": [
    "d = [\n",
    "        {\n",
    "            'one': {\n",
    "                \"one_one\": {\n",
    "                    \"列表1-1\": {\n",
    "                        \"条目1\": \"aaaaaaa\",\n",
    "                        \"条目2\": \"bbbbbbb\",\n",
    "                        \"条目3\": \"ccccccc\"\n",
    "                    },\n",
    "                    \"列表1-2\": {\n",
    "                        \"条目1\": \"aaaaaaa\",\n",
    "                        \"条目2\": \"bbbbbbb\",\n",
    "                        \"条目3\": \"ccccccc\"\n",
    "                    },\n",
    "                    \"列表1-3\": {\n",
    "                        \"条目1\": \"aaaaaaa\",\n",
    "                        \"条目2\": \"bbbbbbb\",\n",
    "                        \"条目3\": \"ccccccc\"\n",
    "                    }\n",
    "                }\n",
    "            },\n",
    "        },\n",
    "        {\n",
    "            'two': {\n",
    "                \"two_one\": [\n",
    "                    \"列表1-1\",\n",
    "                    \"列表1-2\",\n",
    "                    \"列表1-3\"\n",
    "                ]\n",
    "            }\n",
    "        },\n",
    "        {\n",
    "            'three': {\n",
    "                \"three_one\": [\n",
    "                    \"列表1-1\",\n",
    "                    \"列表1-2\",\n",
    "                    \"列表1-3\"\n",
    "                ]\n",
    "            }\n",
    "        }\n",
    "]\n",
    "# print(type(d.items())) # dict_items\n",
    "\n",
    "# for i in list(d.items()):\n",
    "#     print(i)\n",
    "\n",
    "# for i in list(d.keys()):\n",
    "#     print(i)\n",
    "\n",
    "for key, value in d.items():\n",
    "    print(key, \"----\", value)"
   ]
  },
  {
   "cell_type": "markdown",
   "id": "be8ebbf9",
   "metadata": {},
   "source": [
    "类似于上面字典 e（键值对）创建的逆向过程。"
   ]
  },
  {
   "cell_type": "code",
   "execution_count": 17,
   "id": "3cd92590",
   "metadata": {},
   "outputs": [
    {
     "data": {
      "text/plain": [
       "True"
      ]
     },
     "execution_count": 17,
     "metadata": {},
     "output_type": "execute_result"
    }
   ],
   "source": [
    "temp = dict(list(a.items()))\n",
    "temp == a"
   ]
  },
  {
   "cell_type": "markdown",
   "id": "e71c2fea-9bde-41cb-8ee3-7264687bb8d5",
   "metadata": {},
   "source": [
    "## 索引不存在的 key\n",
    "\n",
    "当 key 不存在时会报错。"
   ]
  },
  {
   "cell_type": "code",
   "execution_count": 2,
   "id": "ca8aff16-ac48-4b1b-a7a1-024422d42955",
   "metadata": {},
   "outputs": [
    {
     "data": {
      "text/plain": [
       "{'one': 1, 'two': 2, 'three': 3, 'four': 4}"
      ]
     },
     "execution_count": 2,
     "metadata": {},
     "output_type": "execute_result"
    }
   ],
   "source": [
    "a = {'one': 1, 'two': 2, 'three': 3}\n",
    "# a['four'] # KeyError: 'four'\n",
    "a['four'] = 4\n",
    "a"
   ]
  },
  {
   "cell_type": "markdown",
   "id": "7398091f-6b19-461a-a6fe-334d9c637060",
   "metadata": {},
   "source": [
    "## 查询 key 是否存在\n",
    "\n",
    "方法有两种。  \n",
    "**方法一：**\n",
    "使用 `in` 来判断。"
   ]
  },
  {
   "cell_type": "code",
   "execution_count": 12,
   "id": "c55ae88c-7a4f-4ddd-b899-19b57854fa07",
   "metadata": {},
   "outputs": [
    {
     "name": "stdout",
     "output_type": "stream",
     "text": [
      "True\n",
      "False\n"
     ]
    }
   ],
   "source": [
    "print('three' in a)\n",
    "print('five' in a)"
   ]
  },
  {
   "cell_type": "markdown",
   "id": "f8464b89-89ac-44d8-bd23-f31274c952b1",
   "metadata": {},
   "source": [
    "**方法二：** 使用 `get` 方法。"
   ]
  },
  {
   "cell_type": "code",
   "execution_count": 3,
   "id": "8e33e537-a819-456b-a38f-eddbcbf2b625",
   "metadata": {},
   "outputs": [
    {
     "name": "stdout",
     "output_type": "stream",
     "text": [
      "None\n",
      "1\n"
     ]
    }
   ],
   "source": [
    "print(a.get('five'))\n",
    "print(a.get('one'))"
   ]
  },
  {
   "cell_type": "markdown",
   "id": "a2e277c1-b45a-40a3-b6ad-5b8272bd07df",
   "metadata": {},
   "source": [
    "存在 key 则返回相应的 value，没有找到默认返回 None，当然可以设定错误返回值。"
   ]
  },
  {
   "cell_type": "code",
   "execution_count": 20,
   "id": "e33392a5-54ae-4b26-b43c-2ab18064cb6d",
   "metadata": {},
   "outputs": [
    {
     "name": "stdout",
     "output_type": "stream",
     "text": [
      "error\n",
      "-1\n",
      "1\n"
     ]
    }
   ],
   "source": [
    "print(a.get('five', 'error'))\n",
    "print(a.get('five', -1))\n",
    "print(a.get('one', -1))"
   ]
  },
  {
   "cell_type": "markdown",
   "id": "58e642b2-78df-4094-b0db-cfaa9dd13dca",
   "metadata": {},
   "source": [
    "找到则返回**1**。\n",
    "> `key` 中间可以有空格。"
   ]
  },
  {
   "cell_type": "code",
   "execution_count": 7,
   "id": "bfb53f65-025d-44fe-bb86-754102d46d48",
   "metadata": {},
   "outputs": [
    {
     "data": {
      "text/plain": [
       "'你好'"
      ]
     },
     "execution_count": 7,
     "metadata": {},
     "output_type": "execute_result"
    }
   ],
   "source": [
    "b = {}\n",
    "b['ni hao'] = '你好'\n",
    "b.get('ni hao')"
   ]
  },
  {
   "cell_type": "markdown",
   "id": "6c7a069a-f036-4953-9bf9-32dd16f451f5",
   "metadata": {},
   "source": [
    "## 添加键值对\n",
    "\n",
    "**方法一：**\n",
    "使用 update 方法。"
   ]
  },
  {
   "cell_type": "code",
   "execution_count": 5,
   "id": "35ee54c6-3ce3-488c-b99b-16ce5d7ea963",
   "metadata": {},
   "outputs": [
    {
     "data": {
      "text/plain": [
       "{'one': 1, 'two': 2, 'three': 3, 'four': 4}"
      ]
     },
     "execution_count": 5,
     "metadata": {},
     "output_type": "execute_result"
    }
   ],
   "source": [
    "a = {'one': 1, 'two': 2, 'three': 3}\n",
    "a.update({'four': 4})\n",
    "a"
   ]
  },
  {
   "cell_type": "markdown",
   "id": "98091339-fe22-4224-9b01-7870abfc7653",
   "metadata": {},
   "source": [
    "**方法二：** （常用）\n",
    "\n",
    "直接对不存在的 key 赋值。"
   ]
  },
  {
   "cell_type": "code",
   "execution_count": 8,
   "id": "63b652f5-84c0-4e41-9d0d-9e8a337a4745",
   "metadata": {},
   "outputs": [
    {
     "data": {
      "text/plain": [
       "{'one': 1, 'two': 2, 'three': 3, 'four': 4, 'five': 5}"
      ]
     },
     "execution_count": 8,
     "metadata": {},
     "output_type": "execute_result"
    }
   ],
   "source": [
    "a['five'] = 5\n",
    "a"
   ]
  },
  {
   "cell_type": "markdown",
   "id": "19b2b51a-b714-4dae-8e63-fb44d4eb077e",
   "metadata": {},
   "source": [
    "## 遍历 dict 字典"
   ]
  },
  {
   "cell_type": "code",
   "execution_count": 17,
   "id": "69bf4d89-e262-44b8-b14e-4c8c0f8c78a8",
   "metadata": {},
   "outputs": [
    {
     "name": "stdout",
     "output_type": "stream",
     "text": [
      "a <class 'str'>\n",
      "2 <class 'int'>\n",
      "-----------------------\n",
      "a1\n",
      "a2\n",
      "a3\n"
     ]
    }
   ],
   "source": [
    "d = {\n",
    "    \"a\":{\n",
    "        \"a1\": \"aone\",\n",
    "        \"a2\": \"atwo\",\n",
    "        \"a3\": \"athr\",\n",
    "    },\n",
    "    2:{\n",
    "        \"b1\": \"bone\",\n",
    "        \"b2\": \"btwo\",\n",
    "        \"b3\": \"bthr\",\n",
    "    }\n",
    "}\n",
    "\n",
    "for i in d:\n",
    "    print(i, type(i))\n",
    "\n",
    "print('-----------------------')\n",
    "\n",
    "a = {\n",
    "        \"a1\": \"aone\",\n",
    "        \"a2\": \"atwo\",\n",
    "        \"a3\": \"athr\",\n",
    "    }\n",
    "\n",
    "for i in a:\n",
    "    print(i)"
   ]
  },
  {
   "cell_type": "markdown",
   "id": "873e8b04-e2d7-4a35-b97d-d8005f9b825a",
   "metadata": {},
   "source": [
    "**注意：**\n",
    "由上面可以知道，使用`for ... in`遍历字典，如果字典内还包含字典，返回的只是一个字典名的值。"
   ]
  },
  {
   "cell_type": "code",
   "execution_count": 14,
   "id": "c59349a0-2b89-45f8-a853-985bbd921ae4",
   "metadata": {},
   "outputs": [
    {
     "name": "stdout",
     "output_type": "stream",
     "text": [
      "a1\n",
      "a2\n",
      "a3\n"
     ]
    }
   ],
   "source": [
    "a = {\n",
    "        \"a1\": \"aone\",\n",
    "        \"a2\": \"atwo\",\n",
    "        \"a3\": \"athr\",\n",
    "    }\n",
    "\n",
    "for i in a:\n",
    "    print(i)"
   ]
  }
 ],
 "metadata": {
  "kernelspec": {
   "display_name": "Python 3 (ipykernel)",
   "language": "python",
   "name": "python3"
  },
  "language_info": {
   "codemirror_mode": {
    "name": "ipython",
    "version": 3
   },
   "file_extension": ".py",
   "mimetype": "text/x-python",
   "name": "python",
   "nbconvert_exporter": "python",
   "pygments_lexer": "ipython3",
   "version": "3.9.7"
  }
 },
 "nbformat": 4,
 "nbformat_minor": 5
}
