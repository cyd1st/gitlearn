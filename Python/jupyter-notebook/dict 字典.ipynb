{
 "cells": [
  {
   "cell_type": "markdown",
   "id": "000459db",
   "metadata": {},
   "source": [
    "# dict 字典"
   ]
  },
  {
   "cell_type": "markdown",
   "id": "3723f33e",
   "metadata": {},
   "source": [
    "形如：\n",
    "```python\n",
    "d = {\n",
    "    'one': {\n",
    "        \"one_one\": [\n",
    "            \"列表1-1\",\n",
    "            \"列表1-2\",\n",
    "            \"列表1-3\"\n",
    "        ]\n",
    "    },\n",
    "    'two': 2,\n",
    "    'three': 3\n",
    "}\n",
    "```"
   ]
  },
  {
   "cell_type": "markdown",
   "id": "d9a1fea7",
   "metadata": {},
   "source": [
    "## 创建字典\n",
    "如何创建上面的那个字典？"
   ]
  },
  {
   "cell_type": "code",
   "execution_count": 6,
   "id": "0c30ffdd",
   "metadata": {},
   "outputs": [
    {
     "data": {
      "text/plain": [
       "True"
      ]
     },
     "execution_count": 6,
     "metadata": {},
     "output_type": "execute_result"
    }
   ],
   "source": [
    "a = {'one': 1, 'two': 2, 'three': 3}               # 不调用函数\n",
    "b = dict({'one': 1, 'two': 2, 'three': 3})         # 直接\n",
    "c = dict(one=1, two=2, three=3)                    # 直接\n",
    "d = dict(zip(['one', 'two', 'three'], [1, 2, 3]))  # 两个 list 合并\n",
    "e = dict([('one', 1), ('two', 2), ('three', 3)])   # 键值对 list 合并\n",
    "f = dict({'one': 1, 'three': 3}, two=2)            # dict 拼接字典和键值对\n",
    "# ------------------------ #\n",
    "a == b == c == d == e == f"
   ]
  },
  {
   "cell_type": "markdown",
   "id": "efe9023a",
   "metadata": {},
   "source": [
    "## 字典内置方法\n",
    "### dict.keys()\n",
    "返回由字典键（key）组成的一个新视图。\n",
    "> **注意：**返回值不是一个 list，需要用 list() 函数转换。"
   ]
  },
  {
   "cell_type": "code",
   "execution_count": 14,
   "id": "98c82d79",
   "metadata": {},
   "outputs": [
    {
     "data": {
      "text/plain": [
       "['one', 'two', 'three']"
      ]
     },
     "execution_count": 14,
     "metadata": {},
     "output_type": "execute_result"
    }
   ],
   "source": [
    "type(a.keys()) # dict_keys\n",
    "list(a.keys())"
   ]
  },
  {
   "cell_type": "markdown",
   "id": "9b4ccee0",
   "metadata": {},
   "source": [
    "### dict.items()\n",
    "返回由字典项 ((键, 值) 对) 组成的一个新视图。\n",
    "\n",
    "同 `dict.keys()` 返回值不是一个 list，需要用 list() 函数转换。  "
   ]
  },
  {
   "cell_type": "code",
   "execution_count": 31,
   "id": "c5970e0e",
   "metadata": {},
   "outputs": [
    {
     "ename": "AttributeError",
     "evalue": "'list' object has no attribute 'items'",
     "output_type": "error",
     "traceback": [
      "\u001b[1;31m---------------------------------------------------------------------------\u001b[0m",
      "\u001b[1;31mAttributeError\u001b[0m                            Traceback (most recent call last)",
      "Cell \u001b[1;32mIn [31], line 50\u001b[0m\n\u001b[0;32m      1\u001b[0m d \u001b[38;5;241m=\u001b[39m [\n\u001b[0;32m      2\u001b[0m         {\n\u001b[0;32m      3\u001b[0m             \u001b[38;5;124m'\u001b[39m\u001b[38;5;124mone\u001b[39m\u001b[38;5;124m'\u001b[39m: {\n\u001b[1;32m   (...)\u001b[0m\n\u001b[0;32m     40\u001b[0m         }\n\u001b[0;32m     41\u001b[0m ]\n\u001b[0;32m     42\u001b[0m \u001b[38;5;66;03m# print(type(d.items())) # dict_items\u001b[39;00m\n\u001b[0;32m     43\u001b[0m \n\u001b[0;32m     44\u001b[0m \u001b[38;5;66;03m# for i in list(d.items()):\u001b[39;00m\n\u001b[1;32m   (...)\u001b[0m\n\u001b[0;32m     47\u001b[0m \u001b[38;5;66;03m# for i in list(d.keys()):\u001b[39;00m\n\u001b[0;32m     48\u001b[0m \u001b[38;5;66;03m#     print(i)\u001b[39;00m\n\u001b[1;32m---> 50\u001b[0m \u001b[38;5;28;01mfor\u001b[39;00m key, value \u001b[38;5;129;01min\u001b[39;00m \u001b[43md\u001b[49m\u001b[38;5;241;43m.\u001b[39;49m\u001b[43mitems\u001b[49m():\n\u001b[0;32m     51\u001b[0m     \u001b[38;5;28mprint\u001b[39m(key, \u001b[38;5;124m\"\u001b[39m\u001b[38;5;124m----\u001b[39m\u001b[38;5;124m\"\u001b[39m, value)\n",
      "\u001b[1;31mAttributeError\u001b[0m: 'list' object has no attribute 'items'"
     ]
    }
   ],
   "source": [
    "d = [\n",
    "        {\n",
    "            'one': {\n",
    "                \"one_one\": {\n",
    "                    \"列表1-1\": {\n",
    "                        \"条目1\": \"aaaaaaa\",\n",
    "                        \"条目2\": \"bbbbbbb\",\n",
    "                        \"条目3\": \"ccccccc\"\n",
    "                    },\n",
    "                    \"列表1-2\": {\n",
    "                        \"条目1\": \"aaaaaaa\",\n",
    "                        \"条目2\": \"bbbbbbb\",\n",
    "                        \"条目3\": \"ccccccc\"\n",
    "                    },\n",
    "                    \"列表1-3\": {\n",
    "                        \"条目1\": \"aaaaaaa\",\n",
    "                        \"条目2\": \"bbbbbbb\",\n",
    "                        \"条目3\": \"ccccccc\"\n",
    "                    }\n",
    "                }\n",
    "            },\n",
    "        },\n",
    "        {\n",
    "            'two': {\n",
    "                \"two_one\": [\n",
    "                    \"列表1-1\",\n",
    "                    \"列表1-2\",\n",
    "                    \"列表1-3\"\n",
    "                ]\n",
    "            }\n",
    "        },\n",
    "        {\n",
    "            'three': {\n",
    "                \"three_one\": [\n",
    "                    \"列表1-1\",\n",
    "                    \"列表1-2\",\n",
    "                    \"列表1-3\"\n",
    "                ]\n",
    "            }\n",
    "        }\n",
    "]\n",
    "# print(type(d.items())) # dict_items\n",
    "\n",
    "# for i in list(d.items()):\n",
    "#     print(i)\n",
    "\n",
    "# for i in list(d.keys()):\n",
    "#     print(i)\n",
    "\n",
    "for key, value in d.items():\n",
    "    print(key, \"----\", value)"
   ]
  },
  {
   "cell_type": "markdown",
   "id": "be8ebbf9",
   "metadata": {},
   "source": [
    "类似于上面字典 e（键值对）创建的逆向过程。"
   ]
  },
  {
   "cell_type": "code",
   "execution_count": 17,
   "id": "3cd92590",
   "metadata": {},
   "outputs": [
    {
     "data": {
      "text/plain": [
       "True"
      ]
     },
     "execution_count": 17,
     "metadata": {},
     "output_type": "execute_result"
    }
   ],
   "source": [
    "temp = dict(list(a.items()))\n",
    "temp == a"
   ]
  }
 ],
 "metadata": {
  "kernelspec": {
   "display_name": "Python 3 (ipykernel)",
   "language": "python",
   "name": "python3"
  },
  "language_info": {
   "codemirror_mode": {
    "name": "ipython",
    "version": 3
   },
   "file_extension": ".py",
   "mimetype": "text/x-python",
   "name": "python",
   "nbconvert_exporter": "python",
   "pygments_lexer": "ipython3",
   "version": "3.9.7"
  }
 },
 "nbformat": 4,
 "nbformat_minor": 5
}
