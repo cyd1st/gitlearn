{
 "cells": [
  {
   "cell_type": "markdown",
   "id": "aa7014b2-8dcb-4a6b-9e52-f130a333ac30",
   "metadata": {},
   "source": [
    "# 类 - 调用成员函数的方式"
   ]
  },
  {
   "cell_type": "code",
   "execution_count": 72,
   "id": "5fc5acb8-14f6-4a7b-9015-1035b9f9b6a1",
   "metadata": {},
   "outputs": [],
   "source": [
    "class OneClass:\n",
    "    name = \"类的成员变量\"\n",
    "    _name = \"_类的成员变量\"\n",
    "    __name = \"__类的成员变量\"\n",
    "    def __init__(self):\n",
    "        self.name = \"实例成员变量\"\n",
    "        # print(\"可以打印类的成员：\", name) # error, no name\n",
    "        \n",
    "    def NormalFunc():\n",
    "        print(\"最普通的成员函数\")\n",
    "        # print(\"类成员函数直接使用类的成员，\", OneClass.name)\n",
    "        print(\"类成员函数间接使用类的成员，\", OneClass.__name)\n",
    "    \n",
    "    def NormalFuncWithSelf(self):\n",
    "        print(\"带self参数的成员函数\")\n",
    "        print(self.name)\n",
    "    \n",
    "    @staticmethod\n",
    "    def StaticFunc():\n",
    "        print(\"这是一个静态成员函数\")\n",
    "    @staticmethod\n",
    "    def StaticFuncWithSelf(self):\n",
    "        print(\"这是一个带 self 的静态成员函数, 打印\", self.name)\n",
    "    @staticmethod\n",
    "    def StaticFuncWithCls(cls):\n",
    "        print(\"这是一个带 cls 的静态成员函数, 打印\", cls.name)\n",
    "        \n",
    "    @classmethod\n",
    "    def ClassFunc(): #error\n",
    "        print(\"这是一个类方法\")\n",
    "    @classmethod\n",
    "    def ClassFuncWithCls(cls):\n",
    "        print(\"这是一个带 cls 参数的类方法\")\n",
    "        print(\"打印\", cls.__name)\n",
    "        # print(name) # error"
   ]
  },
  {
   "cell_type": "markdown",
   "id": "1148055c-a886-4771-91a0-1d78529a2751",
   "metadata": {},
   "source": [
    "**实验一**"
   ]
  },
  {
   "cell_type": "code",
   "execution_count": 26,
   "id": "d6a4297c-7f32-451d-a274-91ad33ea61f2",
   "metadata": {},
   "outputs": [
    {
     "name": "stdout",
     "output_type": "stream",
     "text": [
      "最普通的成员函数\n",
      "类成员函数间接使用类的成员， __类的成员变量\n",
      "----------------------\n",
      "被修改的类的成员变量\n",
      "----------------------\n",
      "被修改的被修改的类的成员变量\n",
      "----------------------\n",
      "带self参数的成员函数\n",
      "被修改的被修改的类的成员变量\n",
      "----------------------\n",
      "带self参数的成员函数\n",
      "实例成员变量\n"
     ]
    }
   ],
   "source": [
    "OneClass.NormalFunc()\n",
    "print('----------------------')\n",
    "print(OneClass.name)\n",
    "# print(OneClass._name) # error, no attribute\n",
    "# print(OneClass.__name) # error, no attribute\n",
    "print('----------------------')\n",
    "OneClass.name = \"被修改的\" + OneClass.name\n",
    "print(OneClass.name)\n",
    "print('----------------------')\n",
    "# OneClass.NormalFuncWithSelf() # error, need self\n",
    "OneClass.NormalFuncWithSelf(OneClass)\n",
    "print('----------------------')\n",
    "one = OneClass()\n",
    "one.NormalFuncWithSelf()"
   ]
  },
  {
   "cell_type": "markdown",
   "id": "240a189c-d001-44d1-a832-7ef02d168fad",
   "metadata": {},
   "source": [
    "## 关于普通成员函数的结论：\n",
    "由上面实验可知：\n",
    "- 不带 self 形参的成员函数可以直接**使用类名**调用。\n",
    "- 类的成员变量可以通过类名使用。\n",
    "- 类的内部也只能通过类名使用成员变量。\n",
    "- 类的成员变量和实例的成员变量在隐藏方面性质相同。\n",
    "- 带self 的类成员函数可以直接传入一个类名。"
   ]
  },
  {
   "cell_type": "markdown",
   "id": "747b3acf-bb86-4422-9cec-b5b361a3a10c",
   "metadata": {},
   "source": [
    "**实验二**"
   ]
  },
  {
   "cell_type": "code",
   "execution_count": 46,
   "id": "0ab57d98-83d7-49b1-afc3-125869364f2e",
   "metadata": {},
   "outputs": [
    {
     "name": "stdout",
     "output_type": "stream",
     "text": [
      "这是一个静态成员函数\n",
      "这是一个带 self 的静态成员函数, 打印 类的成员变量\n",
      "----------------------\n",
      "这是一个静态成员函数\n",
      "----------------------\n",
      "这是一个带 self 的静态成员函数, 打印 类的成员变量\n",
      "这是一个带 cls 的静态成员函数, 打印 类的成员变量\n",
      "----------------------\n",
      "这是一个带 self 的静态成员函数, 打印 实例成员变量\n"
     ]
    }
   ],
   "source": [
    "OneClass.StaticFunc()\n",
    "# OneClass.StaticFuncWithSelf() # error, no self\n",
    "OneClass.StaticFuncWithSelf(OneClass)\n",
    "print('----------------------')\n",
    "two = OneClass()\n",
    "two.StaticFunc()\n",
    "print('----------------------')\n",
    "# two.StaticFuncWithSelf() # error, no self\n",
    "two.StaticFuncWithSelf(OneClass)\n",
    "# two.StaticFuncWithCls() # error, no cls\n",
    "two.StaticFuncWithCls(OneClass)\n",
    "print('----------------------')\n",
    "two.StaticFuncWithSelf(one)"
   ]
  },
  {
   "cell_type": "markdown",
   "id": "eb437cf6-8cd1-4728-bfc5-132ca7b19176",
   "metadata": {},
   "source": [
    "## 关于静态成员函数的结论\n",
    "由上面实验可知：\n",
    "\n",
    "**staticmethod 成员函数与普通的成员函数的区别是：**staticmethod 成员函数不能访问实例成员也不能访问类成员（无论变量还是函数）。只能传入一个类，才能执行函数。"
   ]
  },
  {
   "cell_type": "markdown",
   "id": "abbddda9-2346-4170-ab27-70edcd2a9c48",
   "metadata": {},
   "source": [
    "**实验三**"
   ]
  },
  {
   "cell_type": "code",
   "execution_count": 63,
   "id": "cab2da4a-df9b-4f15-9979-bde97b662ea0",
   "metadata": {},
   "outputs": [
    {
     "name": "stdout",
     "output_type": "stream",
     "text": [
      "这是一个静态成员函数\n",
      "这是一个带 cls 参数的类方法\n",
      "打印 __类的成员变量\n"
     ]
    }
   ],
   "source": [
    "OneClass.StaticFunc()\n",
    "# OneClass.ClassFunc() # error, default cls\n",
    "OneClass.ClassFuncWithCls()"
   ]
  },
  {
   "cell_type": "markdown",
   "id": "c6178d8d-685c-4311-ba60-ffc2f805eb63",
   "metadata": {},
   "source": [
    "## 关于类方法的结论\n",
    "由上面实验可知：\n",
    "- 类方法必须带有参数 cls。\n",
    "- 类方法可以通过带参数 cls 来访问类成员，但是静态成员函数无论如何也无法访问类和实例成员。"
   ]
  },
  {
   "cell_type": "markdown",
   "id": "8aa1a3eb-d9b5-4f2b-93f4-15ec74850711",
   "metadata": {},
   "source": [
    "**实验四**"
   ]
  },
  {
   "cell_type": "code",
   "execution_count": 74,
   "id": "c7f0c5d1-27e2-4736-a0a3-7bcef7b340bc",
   "metadata": {},
   "outputs": [],
   "source": [
    "class OtherClass(OneClass):\n",
    "    name = \"子类 的成员变量\"\n",
    "    _name = \"_子类 的成员变量\"\n",
    "    __name = \"__子类 的成员变量\"\n",
    "    @staticmethod\n",
    "    def StaticFunc():\n",
    "        print(\"这是 子类的 一个静态成员函数\")\n",
    "\n",
    "    @classmethod\n",
    "    def ClassFuncWithCls(cls):\n",
    "        print(\"这是 子类的 一个带 cls 参数的类方法\")\n",
    "        print(\"子类 打印\", cls.__name)"
   ]
  },
  {
   "cell_type": "code",
   "execution_count": 70,
   "id": "b4eec20e-9391-465b-a320-1e4b1bfd661e",
   "metadata": {},
   "outputs": [
    {
     "name": "stdout",
     "output_type": "stream",
     "text": [
      "这是 子类的 一个静态成员函数\n",
      "这是 子类的 一个带 cls 参数的类方法\n",
      " 子类 打印 __子类 的成员变量\n"
     ]
    }
   ],
   "source": [
    "OtherClass.StaticFunc()\n",
    "OtherClass.ClassFuncWithCls()"
   ]
  },
  {
   "cell_type": "code",
   "execution_count": 75,
   "id": "a48e1bfa-98e8-4c3a-92b4-6a05691779c7",
   "metadata": {},
   "outputs": [],
   "source": [
    "class AnotherClass(OneClass):\n",
    "    name = \"子类 的成员变量\""
   ]
  },
  {
   "cell_type": "code",
   "execution_count": 77,
   "id": "61656ff4-e6fa-495e-87d0-06b17f5918ee",
   "metadata": {},
   "outputs": [
    {
     "name": "stdout",
     "output_type": "stream",
     "text": [
      "这是一个静态成员函数\n",
      "这是一个带 cls 参数的类方法\n",
      "打印 __类的成员变量\n"
     ]
    }
   ],
   "source": [
    "AnotherClass.StaticFunc()\n",
    "AnotherClass.ClassFuncWithCls()"
   ]
  },
  {
   "cell_type": "markdown",
   "id": "47c58a17-8a25-4f2e-b226-9ee3e8163544",
   "metadata": {},
   "source": [
    "## 关于静态方法和类方法继承的结论\n",
    "- 这些子类方法都能覆盖父类的方法。\n",
    "- 静态类方法因为无法访问任何类成员，所以只能是等于直接世界使用父类的方法。\n",
    "- 类方法则能够访问类成员，所以调用的是子类的成员。\n",
    "很好理解和记忆。\n",
    "\n",
    "## 总结\n",
    "实际上 `staticmethod` 和 `classmethod` 唯一的区别就是：一个**不能**任何访问类成员，一个**只能**访问类成员。当然普通成员函数**还能**访问实例成员。"
   ]
  }
 ],
 "metadata": {
  "kernelspec": {
   "display_name": "Python 3 (ipykernel)",
   "language": "python",
   "name": "python3"
  },
  "language_info": {
   "codemirror_mode": {
    "name": "ipython",
    "version": 3
   },
   "file_extension": ".py",
   "mimetype": "text/x-python",
   "name": "python",
   "nbconvert_exporter": "python",
   "pygments_lexer": "ipython3",
   "version": "3.9.7"
  }
 },
 "nbformat": 4,
 "nbformat_minor": 5
}
