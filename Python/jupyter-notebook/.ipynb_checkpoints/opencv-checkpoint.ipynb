{
 "cells": [
  {
   "cell_type": "markdown",
   "id": "06e7fd08-531a-4fe8-ac6f-43375ee2a0fc",
   "metadata": {},
   "source": [
    "# opencv-python 基础入门"
   ]
  },
  {
   "cell_type": "markdown",
   "id": "ef69b12e-744e-4a70-a119-27df893c0cc5",
   "metadata": {},
   "source": [
    "安装：pip install opencv-python  \n",
    "导入：import cv2"
   ]
  },
  {
   "cell_type": "markdown",
   "id": "55bed426-38f3-4963-98ce-d5fd6635e39c",
   "metadata": {},
   "source": [
    "## 读取图片 cv2.imread()\n"
   ]
  }
 ],
 "metadata": {
  "kernelspec": {
   "display_name": "Python 3 (ipykernel)",
   "language": "python",
   "name": "python3"
  },
  "language_info": {
   "codemirror_mode": {
    "name": "ipython",
    "version": 3
   },
   "file_extension": ".py",
   "mimetype": "text/x-python",
   "name": "python",
   "nbconvert_exporter": "python",
   "pygments_lexer": "ipython3",
   "version": "3.9.7"
  }
 },
 "nbformat": 4,
 "nbformat_minor": 5
}
