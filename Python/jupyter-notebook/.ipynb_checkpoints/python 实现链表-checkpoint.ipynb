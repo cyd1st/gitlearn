{
 "cells": [
  {
   "cell_type": "markdown",
   "id": "eaa7938d-30b1-4244-87ce-f7e473dfe480",
   "metadata": {},
   "source": [
    "# python 实现链表\n",
    "参考链接：\n",
    "[python 实现链表](https://blog.csdn.net/Yu_L2/article/details/120399755)\n",
    "\n",
    "## 节点的定义"
   ]
  },
  {
   "cell_type": "code",
   "execution_count": 12,
   "id": "864b69c8-84f0-47d8-9181-0ff2535e0c1e",
   "metadata": {},
   "outputs": [
    {
     "ename": "AttributeError",
     "evalue": "'NoneType' object has no attribute 'elem'",
     "output_type": "error",
     "traceback": [
      "\u001b[1;31m---------------------------------------------------------------------------\u001b[0m",
      "\u001b[1;31mAttributeError\u001b[0m                            Traceback (most recent call last)",
      "Cell \u001b[1;32mIn [12], line 18\u001b[0m\n\u001b[0;32m     15\u001b[0m         \u001b[38;5;28mself\u001b[39m\u001b[38;5;241m.\u001b[39mnext \u001b[38;5;241m=\u001b[39m \u001b[38;5;28mnext\u001b[39m\n\u001b[0;32m     17\u001b[0m sLinkHead \u001b[38;5;241m=\u001b[39m sLinkNode(\u001b[38;5;241m100\u001b[39m)\n\u001b[1;32m---> 18\u001b[0m \u001b[38;5;28mprint\u001b[39m(\u001b[43msLinkHead\u001b[49m\u001b[38;5;241;43m.\u001b[39;49m\u001b[43melem\u001b[49m)\n\u001b[0;32m     19\u001b[0m dLinkHead \u001b[38;5;241m=\u001b[39m dLinkNode(\u001b[38;5;241m101\u001b[39m)\n",
      "\u001b[1;31mAttributeError\u001b[0m: 'NoneType' object has no attribute 'elem'"
     ]
    }
   ],
   "source": [
    "# 单链表的节点\n",
    "def sLinkNode(object):\n",
    "    def __init__(self, elem, next=None):\n",
    "        self.__elem = elem\n",
    "        self.next = next\n",
    "    @property\n",
    "    def elem(self):\n",
    "        return self.__elem\n",
    "\n",
    "# 双链表的节点\n",
    "def dLinkNode(object):\n",
    "    def __init__(self, elem, pre=None, next=None):\n",
    "        self.elem = elem\n",
    "        self.pre = pre\n",
    "        self.next = next\n",
    "        \n",
    "sLinkHead = sLinkNode(100)\n",
    "print(sLinkHead.elem())\n",
    "dLinkHead = dLinkNode(101)"
   ]
  },
  {
   "cell_type": "markdown",
   "id": "88728524-3bde-4d26-a24a-22c0b7156e06",
   "metadata": {},
   "source": [
    "## 链表的定义\n",
    "### 单链表\n"
   ]
  },
  {
   "cell_type": "code",
   "execution_count": null,
   "id": "a716e6be-44f5-4ca7-aa3c-c230b545b39e",
   "metadata": {},
   "outputs": [],
   "source": [
    "class sLinkList(object):\n",
    "    def __init__(self, node=None):\n",
    "        self.__head = node\n",
    "    def is_empty(self):\n",
    "        return self.__head == None\n",
    "    def travel(self):\n",
    "        cur = self.__head\n",
    "        while cur != None:\n",
    "            print(cur.elem)\n",
    "            cur = cur.next"
   ]
  }
 ],
 "metadata": {
  "kernelspec": {
   "display_name": "Python 3 (ipykernel)",
   "language": "python",
   "name": "python3"
  },
  "language_info": {
   "codemirror_mode": {
    "name": "ipython",
    "version": 3
   },
   "file_extension": ".py",
   "mimetype": "text/x-python",
   "name": "python",
   "nbconvert_exporter": "python",
   "pygments_lexer": "ipython3",
   "version": "3.9.7"
  }
 },
 "nbformat": 4,
 "nbformat_minor": 5
}
