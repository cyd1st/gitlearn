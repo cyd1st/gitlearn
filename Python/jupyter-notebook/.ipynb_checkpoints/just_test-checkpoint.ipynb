{
 "cells": [
  {
   "cell_type": "code",
   "execution_count": 4,
   "id": "71139f5f",
   "metadata": {},
   "outputs": [
    {
     "ename": "SyntaxError",
     "evalue": "invalid syntax (366044783.py, line 3)",
     "output_type": "error",
     "traceback": [
      "\u001b[1;36m  Cell \u001b[1;32mIn [4], line 3\u001b[1;36m\u001b[0m\n\u001b[1;33m    return bundle_error[\"description\"] = \"NAME_FORMAT_ERROR\"\u001b[0m\n\u001b[1;37m                                       ^\u001b[0m\n\u001b[1;31mSyntaxError\u001b[0m\u001b[1;31m:\u001b[0m invalid syntax\n"
     ]
    }
   ],
   "source": [
    "def retun_test():\n",
    "    bundle_error = {}\n",
    "    return bundle_error[\"description\"] = \"NAME_FORMAT_ERROR\"\n",
    "\n",
    "print(retun_test())"
   ]
  },
  {
   "cell_type": "code",
   "execution_count": 7,
   "id": "193776ff",
   "metadata": {},
   "outputs": [
    {
     "name": "stdout",
     "output_type": "stream",
     "text": [
      "None\n"
     ]
    }
   ],
   "source": [
    "def retun_test():\n",
    "    bundle_error = []\n",
    "    bundle_error.append(\"hahaha\")\n",
    "    return bundle_error.append(\"hahaha\")\n",
    "#     return bundle_error\n",
    "    \n",
    "\n",
    "print(retun_test())"
   ]
  },
  {
   "cell_type": "code",
   "execution_count": 8,
   "id": "19010ce7",
   "metadata": {},
   "outputs": [],
   "source": [
    "l = []\n",
    "for i in l:\n",
    "    print(\"hahah\")"
   ]
  },
  {
   "cell_type": "markdown",
   "id": "8fe776df",
   "metadata": {},
   "source": [
    "## 判断字符串是否为数值\n",
    "负数字符串是否能用 isdigit()"
   ]
  },
  {
   "cell_type": "code",
   "execution_count": 18,
   "id": "df36fe95",
   "metadata": {},
   "outputs": [
    {
     "name": "stdout",
     "output_type": "stream",
     "text": [
      "False\n",
      "False\n",
      "False\n"
     ]
    }
   ],
   "source": [
    "s = \"-100.89\"\n",
    "print(s.isdigit())\n",
    "\n",
    "s2 = \"100.89\"\n",
    "print(s2.isdigit())\n",
    "\n",
    "s3 = \"100.89KB\"\n",
    "print(s3.isdigit())"
   ]
  },
  {
   "cell_type": "markdown",
   "id": "dd3c4175",
   "metadata": {},
   "source": [
    "使用 float() 函数"
   ]
  },
  {
   "cell_type": "code",
   "execution_count": 17,
   "id": "c1fc0c50",
   "metadata": {},
   "outputs": [
    {
     "name": "stdout",
     "output_type": "stream",
     "text": [
      "-100.89\n",
      "100.89\n",
      "~100.89 not a number.\n",
      "100.9KB not a number.\n"
     ]
    },
    {
     "data": {
      "text/plain": [
       "False"
      ]
     },
     "execution_count": 17,
     "metadata": {},
     "output_type": "execute_result"
    }
   ],
   "source": [
    "s = \"-100.89\"\n",
    "print(float(s))\n",
    "\n",
    "s2 = \"100.89\"\n",
    "print(float(s2))\n",
    "\n",
    "s3 = \"~100.89\"\n",
    "s4 = \"100.9KB\"\n",
    "# print(float(s3))\n",
    "def is_number(s:str) -> bool:\n",
    "    try:\n",
    "        print(s + ' = ' + float(s))\n",
    "        return True\n",
    "    except:\n",
    "        print(s + ' not a number.')\n",
    "        return False\n",
    "\n",
    "is_number(s3)\n",
    "is_number(s4)"
   ]
  },
  {
   "cell_type": "markdown",
   "id": "65e827bf",
   "metadata": {},
   "source": [
    "## 字符串为空是否等于 False"
   ]
  },
  {
   "cell_type": "code",
   "execution_count": 19,
   "id": "16b8daa7",
   "metadata": {},
   "outputs": [
    {
     "name": "stdout",
     "output_type": "stream",
     "text": [
      "字符串为空。\n"
     ]
    }
   ],
   "source": [
    "s = \"\"\n",
    "if not s:\n",
    "    print(\"字符串为空。\")"
   ]
  },
  {
   "cell_type": "markdown",
   "id": "ed9f9e56",
   "metadata": {},
   "source": [
    "------------"
   ]
  },
  {
   "cell_type": "code",
   "execution_count": 22,
   "id": "a118b8f6",
   "metadata": {},
   "outputs": [
    {
     "name": "stdout",
     "output_type": "stream",
     "text": [
      "find . -name bundle.json ! -path \"./out/*\" ! -path \"./.repo/*\"\n"
     ]
    }
   ],
   "source": [
    "def get_all_bundle_json(project_path:str = '.') -> list:\n",
    "    # cmd = 'find -name bundle.json ! -path \"./out/*\" ! -path \"./.repo/*\"'\n",
    "    exclude_list = [\n",
    "        r'\"./out/*\"',\n",
    "        r'\"./.repo/*\"'\n",
    "    ]\n",
    "    cmd = \"find {} -name {}\".format(project_path, \"bundle.json\")\n",
    "    for i in exclude_list:\n",
    "        cmd += \" ! -path {}\".format(i)\n",
    "    print(cmd)\n",
    "\n",
    "get_all_bundle_json()"
   ]
  },
  {
   "cell_type": "markdown",
   "id": "786b52e5",
   "metadata": {},
   "source": [
    "## 普通字符串转义 * 吗？"
   ]
  },
  {
   "cell_type": "code",
   "execution_count": 20,
   "id": "557c7664",
   "metadata": {},
   "outputs": [
    {
     "name": "stdout",
     "output_type": "stream",
     "text": [
      "./out/*\n",
      "./out/*\n"
     ]
    }
   ],
   "source": [
    "s1 = \"./out/*\"\n",
    "s2 = r\"./out/*\"\n",
    "\n",
    "print(s1)\n",
    "print(s2)"
   ]
  },
  {
   "cell_type": "markdown",
   "id": "36e2cebd",
   "metadata": {},
   "source": [
    "## os.path.normpath"
   ]
  },
  {
   "cell_type": "code",
   "execution_count": 23,
   "id": "360271ab",
   "metadata": {},
   "outputs": [
    {
     "data": {
      "text/plain": [
       "'path\\\\to\\\\bnundle.json\\n'"
      ]
     },
     "execution_count": 23,
     "metadata": {},
     "output_type": "execute_result"
    }
   ],
   "source": [
    "path = 'path/to/bnundle.json\\n'\n",
    "\n",
    "import os\n",
    "\n",
    "os.path.normpath(path)\n"
   ]
  },
  {
   "cell_type": "markdown",
   "id": "fe184b36",
   "metadata": {},
   "source": [
    "strip 默认包括哪些符号？"
   ]
  },
  {
   "cell_type": "code",
   "execution_count": 24,
   "id": "f3da88cf",
   "metadata": {},
   "outputs": [
    {
     "data": {
      "text/plain": [
       "'path/to/bnundle.json'"
      ]
     },
     "execution_count": 24,
     "metadata": {},
     "output_type": "execute_result"
    }
   ],
   "source": [
    "path = 'path/to/bnundle.json\\n'\n",
    "path.strip()\n"
   ]
  },
  {
   "cell_type": "code",
   "execution_count": 33,
   "id": "60027eab",
   "metadata": {},
   "outputs": [
    {
     "data": {
      "text/plain": [
       "['aa', 'bb']"
      ]
     },
     "execution_count": 33,
     "metadata": {},
     "output_type": "execute_result"
    }
   ],
   "source": [
    "l = list([\"aa\", \"bb\"])\n",
    "l"
   ]
  },
  {
   "cell_type": "markdown",
   "id": "bac2ba62",
   "metadata": {},
   "source": [
    "## 新建字典"
   ]
  },
  {
   "cell_type": "code",
   "execution_count": 36,
   "id": "be8c0dec",
   "metadata": {},
   "outputs": [
    {
     "data": {
      "text/plain": [
       "{'a': {'中文。': ['li', '列']}}"
      ]
     },
     "execution_count": 36,
     "metadata": {},
     "output_type": "execute_result"
    }
   ],
   "source": [
    "b = {}\n",
    "b['a'] = dict([(\"中文。\", ['li', '列'])])\n",
    "\n",
    "b"
   ]
  },
  {
   "cell_type": "code",
   "execution_count": 45,
   "id": "8df86fc1",
   "metadata": {},
   "outputs": [
    {
     "data": {
      "text/plain": [
       "'asdfgfdsfsf'"
      ]
     },
     "execution_count": 45,
     "metadata": {},
     "output_type": "execute_result"
    }
   ],
   "source": [
    "d = {}"
   ]
  },
  {
   "cell_type": "markdown",
   "id": "8858462b",
   "metadata": {},
   "source": [
    "## with 是否为局部作用域"
   ]
  },
  {
   "cell_type": "code",
   "execution_count": 48,
   "id": "6032430a",
   "metadata": {},
   "outputs": [
    {
     "data": {
      "text/plain": [
       "'1234567890\\nabcdefjh'"
      ]
     },
     "execution_count": 48,
     "metadata": {},
     "output_type": "execute_result"
    }
   ],
   "source": [
    "with  open(\"out/test.txt\", 'r') as f:\n",
    "    txt = f.read()\n",
    "\n",
    "txt\n",
    "# f"
   ]
  },
  {
   "cell_type": "markdown",
   "id": "a29437d1",
   "metadata": {},
   "source": [
    "# re"
   ]
  },
  {
   "cell_type": "code",
   "execution_count": 66,
   "id": "082970e8",
   "metadata": {},
   "outputs": [
    {
     "name": "stdout",
     "output_type": "stream",
     "text": [
      "ace_engine_lite\n",
      "ace\n"
     ]
    }
   ],
   "source": [
    "import re\n",
    "def check_diff_by_line(s:str) -> str:\n",
    "    s = s.strip()\n",
    "    match = re.match(r'\"(\\w+)\":\\s*\"(.+)\"', s)\n",
    "    if not match:\n",
    "        return None\n",
    "    key = match.group(1)\n",
    "    value = match.group(2)\n",
    "#     print(key)\n",
    "#     print(value)\n",
    "    if key == 'name':\n",
    "        v = value.split('/')[1] if ('/' in value) else value\n",
    "        print(v)\n",
    "    return\n",
    "\n",
    "str1 =   r'\"name\": \"@ohos/ace_engine_lite\",\\n'\n",
    "str2 =   r'\"name\": \"@ohos/ace\",\\n'\n",
    "str3 = r'    \"destPath\": \"foundation/arkui/ace_engine_lite\"'\n",
    "str4 = r'    \"name\": \"ace_engine_lite\",'\n",
    "check_diff_by_line(str1)\n",
    "check_diff_by_line(str2)"
   ]
  },
  {
   "cell_type": "markdown",
   "id": "1859cc37-4097-409e-a0f0-5508e48ca610",
   "metadata": {},
   "source": [
    "## PrettyTable"
   ]
  },
  {
   "cell_type": "code",
   "execution_count": 13,
   "id": "c35b2c08-4d3c-4d59-965b-2d0e0b498a6f",
   "metadata": {},
   "outputs": [
    {
     "name": "stdout",
     "output_type": "stream",
     "text": [
      "+-----------+------+------------+-----------------+\n",
      "| City name | Area | Population | Annual Rainfall |\n",
      "+-----------+------+------------+-----------------+\n",
      "+-----------+------+------------+-----------------+\n"
     ]
    }
   ],
   "source": [
    "from prettytable import PrettyTable\n",
    "x = PrettyTable()\n",
    "x.title = \"Table 1\"\n",
    "x.field_names = [\"City name\", \"Area\", \"Population\", \"Annual Rainfall\"]\n",
    "x.add_row([\"Adelaide\", 1295, 1158259, 600.5])\n",
    "# print(x)\n",
    "\n",
    "t2 = PrettyTable([\"City name\", \"Area\", \"Population\", \"Annual Rainfall\"])\n",
    "x.align[\"Area\"] = \"1\"\n",
    "print(t2)"
   ]
  },
  {
   "cell_type": "code",
   "execution_count": 38,
   "id": "d4888b19-a592-4537-b8e3-47239ccb7ca4",
   "metadata": {},
   "outputs": [],
   "source": [
    "import os\n",
    "def export_to_pt(d:dict, path:str, filename=\"check_diff.txt\"):\n",
    "        '''\n",
    "        @func: trans result of check_diff to prettytable format.\n",
    "        '''\n",
    "        # d = BundleCheckTools.check_diff()\n",
    "        columns = ['文件', '违反规则', '详细', '说明']\n",
    "        t = PrettyTable(columns)\n",
    "        for f in d:\n",
    "            for i in d[f]:\n",
    "                row = [f, \"CHECK_RULE_2_1\"]\n",
    "                row.extend([i[0], i[1]])\n",
    "                # print(row) # test\n",
    "                # print(len(row)) # test\n",
    "                t.add_row(row)\n",
    "        output_full_path = os.path.join(path, filename)\n",
    "        t.align[\"文件\"] = 'l'\n",
    "        t.align[\"详细\"] = 'l'\n",
    "        t.align[\"说明\"] = 'l'\n",
    "        with open(output_full_path, 'w', encoding='utf-8') as f:\n",
    "            f.write(t.get_string())\n",
    "\n",
    "d = {\n",
    "    \"/home/cyd/ohos/foundation/arkui/ace_engine_lite/bundle.json\": [\n",
    "        [\n",
    "            19,\n",
    "            \"部件名不能超过 63 个有效英文字符，且使用小写加下划线风格命名，如：unix_like。\"\n",
    "        ],\n",
    "        [\n",
    "            38,\n",
    "            \"\\\"component:rom\\\" 非数值或者小于等于 0。\"\n",
    "        ]\n",
    "    ],\n",
    "    \"commonlibrary/memory_utils/bundle.json\": [\n",
    "        [\n",
    "            19,\n",
    "            \"部件名不能超过 63 个有效英文字符，且使用小写加下划线风格命名，如：unix_like。\"\n",
    "        ],\n",
    "        [\n",
    "            38,\n",
    "            \"\\\"component:ram\\\" 非数值或者小于等于 0。\"\n",
    "        ]\n",
    "    ]\n",
    "}\n",
    "\n",
    "export_to_pt(d, 'out')"
   ]
  },
  {
   "cell_type": "code",
   "execution_count": null,
   "id": "30945bc3-e50c-4bd4-89e7-c3fb9a30d105",
   "metadata": {},
   "outputs": [],
   "source": []
  }
 ],
 "metadata": {
  "kernelspec": {
   "display_name": "Python 3 (ipykernel)",
   "language": "python",
   "name": "python3"
  },
  "language_info": {
   "codemirror_mode": {
    "name": "ipython",
    "version": 3
   },
   "file_extension": ".py",
   "mimetype": "text/x-python",
   "name": "python",
   "nbconvert_exporter": "python",
   "pygments_lexer": "ipython3",
   "version": "3.9.7"
  }
 },
 "nbformat": 4,
 "nbformat_minor": 5
}
