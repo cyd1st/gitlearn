{
 "cells": [
  {
   "cell_type": "markdown",
   "metadata": {},
   "source": [
    "# typing 的用法"
   ]
  },
  {
   "cell_type": "markdown",
   "metadata": {},
   "source": [
    "## 类型别名\n",
    "\n",
    "type 关键字，类似 c 语言中的 typedef。 \n",
    "\n",
    "python 3.12 添加。"
   ]
  },
  {
   "cell_type": "code",
   "execution_count": 4,
   "metadata": {},
   "outputs": [],
   "source": [
    "type Vector = list[float]\n",
    "\n",
    "def scale(scale: float, vector: Vector) -> Vector:\n",
    "    return [scale * num for num in vector]\n",
    "\n",
    "a = scale(2.9, [1.1, 2.2, 3.3])"
   ]
  },
  {
   "cell_type": "markdown",
   "metadata": {},
   "source": [
    " 3.12 之前的版本使用\n",
    "```python\n",
    "Vector = list[float]\n",
    "```\n",
    "或者更好的写法：\n",
    "```python\n",
    "from typing import TypeAlias\n",
    "\n",
    "Vector: TypeAlias = list[float]\n",
    "```\n"
   ]
  },
  {
   "cell_type": "markdown",
   "metadata": {},
   "source": [
    "## NewType\n",
    "\n",
    "不同与类型别名，NewType 是创建了一个新的类型，新类型是原类型的子类。\n",
    "相对于类型别名，NewType 相当于复制了原类型。"
   ]
  },
  {
   "cell_type": "code",
   "execution_count": null,
   "metadata": {},
   "outputs": [],
   "source": [
    "from typing import NewType\n",
    "\n",
    "UserId = NewType('UserId', int)\n",
    "some_id = UserId(12345)\n",
    "\n",
    "def get_user_name(user_id: UserId) -> str:\n",
    "    return 'John Doe'\n",
    "\n",
    "user_a = get_user_name(some_id)\n",
    "user_b = get_user_name(12345)\n",
    "user_c = get_user_name(-1)"
   ]
  },
  {
   "cell_type": "markdown",
   "metadata": {},
   "source": [
    "上面这段代码运行是没有问题的，但是如果使用 mypy 静态器，就会提示错误。报错内容如下：\n",
    "```powershell\n",
    "mypy .\\NewType_demo1.py\n",
    "NewType_demo1.py:10: error: Argument 1 to \"get_user_name\" has incompatible type \"int\"; expected \"UserId\"  [arg-type]\n",
    "NewType_demo1.py:11: error: Argument 1 to \"get_user_name\" has incompatible type \"int\"; expected \"UserId\"  [arg-type]\n",
    "Found 2 errors in 1 file (checked 1 source file)\n",
    "```"
   ]
  },
  {
   "cell_type": "markdown",
   "metadata": {},
   "source": [
    "还需要注意的是，\n",
    "- 新类型 UserId 是一个抽象类型，不能实例化，也不能被直接派生。\n",
    "    为什么说直接呢？因为可以使用 NewType 基于 UserId 创建一个新的类型。\n",
    "- 在静态检查中 int 不能隐式转为 UserId 类型，但是 UserId 可以隐式转为 int 类型。如 output = UserId(23413) + UserId(54341)，中的 output 的类型是 int。\n",
    "\n",
    "NewType 有什么价值呢？\n",
    "除了创建类型“别名”外，主要是防止原类型的隐式转换。"
   ]
  }
 ],
 "metadata": {
  "kernelspec": {
   "display_name": "Python 3",
   "language": "python",
   "name": "python3"
  },
  "language_info": {
   "codemirror_mode": {
    "name": "ipython",
    "version": 3
   },
   "file_extension": ".py",
   "mimetype": "text/x-python",
   "name": "python",
   "nbconvert_exporter": "python",
   "pygments_lexer": "ipython3",
   "version": "3.13.0"
  }
 },
 "nbformat": 4,
 "nbformat_minor": 2
}
